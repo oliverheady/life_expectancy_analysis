{
  "cells": [
    {
      "cell_type": "markdown",
      "id": "d9dd5646",
      "metadata": {
        "id": "d9dd5646"
      },
      "source": [
        "<center> <h1>Homework 6 | DATA 5600</h1> </center>\n",
        "<center> <h2>Multiple Linear Regression Additional Variable Types</h2> </center>\n",
        "<center> <h3> Oliver Heady <h3> <center>"
      ]
    },
    {
      "cell_type": "code",
      "execution_count": null,
      "id": "7bc58cc6",
      "metadata": {
        "attributes": {
          "classes": [],
          "id": "",
          "include": "FALSE"
        },
        "id": "7bc58cc6"
      },
      "outputs": [],
      "source": [
        "# load packages here\n",
        "import pandas as pd\n",
        "import seaborn as sns\n",
        "from matplotlib import pyplot as plt\n",
        "import statsmodels.api as sm\n",
        "from statsmodels.graphics.factorplots import interaction_plot\n",
        "from statsmodels.stats.anova import anova_lm"
      ]
    },
    {
      "cell_type": "markdown",
      "id": "9641059a",
      "metadata": {
        "id": "9641059a"
      },
      "source": [
        "## Data and Description\n",
        "\n",
        "**Note that for the sake of length for this homework assignment, I am not having you check the model assumptions. You certainly can, if you would like, and in \"real life\" you would definitely need to do this prior to any statistical inference.**\n",
        "\n",
        "Macroeconomists often speculate that life expectancy is linked with the economic well-being of a country. Macroeconomists also hypothesize that Organisation for Economic Co-operation and Development (OECD) (an international think tank charged with promoting policies that will improve global social and economic well-being) members will have longer life expectancy. To test these hypotheses, the LifeExpectancy.txt data set (found on Canvas) contains the following information:\n",
        "\n",
        "| Variable | Description                                        |\n",
        "|----------|----------------------------------------------------|\n",
        "| LifeExp  | Average life expectancy in years                   |\n",
        "| Country  | Country name                                       |\n",
        "| Group    | Is the country a member of OECD, Africa, or other? |\n",
        "| PPGDP    | Per person GDP (on the log scale)                  |\n",
        "\n",
        "The Group variable indicates if the country is a member of the OECD, a member of the African continent, or belonging to neither group (other). **Note that the Country variable is just for your reference - you will not use this variable in your model.**\n",
        "\n",
        "Download LifeExpectancy.txt, and put it in the same folder this Jupyter Notebook.\n"
      ]
    },
    {
      "cell_type": "markdown",
      "id": "09137af0",
      "metadata": {
        "id": "09137af0"
      },
      "source": [
        "\n",
        "#### 1. Read in the data set, call it \"life\" and remove the \"Row\" column. Print a summary of the data, and expore the data to make sure the data makes sense."
      ]
    },
    {
      "cell_type": "code",
      "execution_count": null,
      "id": "5bd359a0",
      "metadata": {
        "id": "5bd359a0",
        "colab": {
          "base_uri": "https://localhost:8080/",
          "height": 201
        },
        "outputId": "97307733-1d4e-41a9-c791-8faffc5e7afd"
      },
      "outputs": [
        {
          "output_type": "execute_result",
          "data": {
            "text/plain": [
              "     Country  Group      PPGDP  LifeExp\n",
              "0    Albania  other   8.209907    75.31\n",
              "1   Anguilla  other   9.528801    79.19\n",
              "2  Argentina  other   9.122831    77.72\n",
              "3    Armenia  other   8.016549    74.54\n",
              "4      Aruba  other  10.036772    79.80"
            ],
            "text/html": [
              "\n",
              "  <div id=\"df-219fddd1-b980-4fda-8615-54d447c01500\" class=\"colab-df-container\">\n",
              "    <div>\n",
              "<style scoped>\n",
              "    .dataframe tbody tr th:only-of-type {\n",
              "        vertical-align: middle;\n",
              "    }\n",
              "\n",
              "    .dataframe tbody tr th {\n",
              "        vertical-align: top;\n",
              "    }\n",
              "\n",
              "    .dataframe thead th {\n",
              "        text-align: right;\n",
              "    }\n",
              "</style>\n",
              "<table border=\"1\" class=\"dataframe\">\n",
              "  <thead>\n",
              "    <tr style=\"text-align: right;\">\n",
              "      <th></th>\n",
              "      <th>Country</th>\n",
              "      <th>Group</th>\n",
              "      <th>PPGDP</th>\n",
              "      <th>LifeExp</th>\n",
              "    </tr>\n",
              "  </thead>\n",
              "  <tbody>\n",
              "    <tr>\n",
              "      <th>0</th>\n",
              "      <td>Albania</td>\n",
              "      <td>other</td>\n",
              "      <td>8.209907</td>\n",
              "      <td>75.31</td>\n",
              "    </tr>\n",
              "    <tr>\n",
              "      <th>1</th>\n",
              "      <td>Anguilla</td>\n",
              "      <td>other</td>\n",
              "      <td>9.528801</td>\n",
              "      <td>79.19</td>\n",
              "    </tr>\n",
              "    <tr>\n",
              "      <th>2</th>\n",
              "      <td>Argentina</td>\n",
              "      <td>other</td>\n",
              "      <td>9.122831</td>\n",
              "      <td>77.72</td>\n",
              "    </tr>\n",
              "    <tr>\n",
              "      <th>3</th>\n",
              "      <td>Armenia</td>\n",
              "      <td>other</td>\n",
              "      <td>8.016549</td>\n",
              "      <td>74.54</td>\n",
              "    </tr>\n",
              "    <tr>\n",
              "      <th>4</th>\n",
              "      <td>Aruba</td>\n",
              "      <td>other</td>\n",
              "      <td>10.036772</td>\n",
              "      <td>79.80</td>\n",
              "    </tr>\n",
              "  </tbody>\n",
              "</table>\n",
              "</div>\n",
              "    <div class=\"colab-df-buttons\">\n",
              "\n",
              "  <div class=\"colab-df-container\">\n",
              "    <button class=\"colab-df-convert\" onclick=\"convertToInteractive('df-219fddd1-b980-4fda-8615-54d447c01500')\"\n",
              "            title=\"Convert this dataframe to an interactive table.\"\n",
              "            style=\"display:none;\">\n",
              "\n",
              "  <svg xmlns=\"http://www.w3.org/2000/svg\" height=\"24px\" viewBox=\"0 -960 960 960\">\n",
              "    <path d=\"M120-120v-720h720v720H120Zm60-500h600v-160H180v160Zm220 220h160v-160H400v160Zm0 220h160v-160H400v160ZM180-400h160v-160H180v160Zm440 0h160v-160H620v160ZM180-180h160v-160H180v160Zm440 0h160v-160H620v160Z\"/>\n",
              "  </svg>\n",
              "    </button>\n",
              "\n",
              "  <style>\n",
              "    .colab-df-container {\n",
              "      display:flex;\n",
              "      gap: 12px;\n",
              "    }\n",
              "\n",
              "    .colab-df-convert {\n",
              "      background-color: #E8F0FE;\n",
              "      border: none;\n",
              "      border-radius: 50%;\n",
              "      cursor: pointer;\n",
              "      display: none;\n",
              "      fill: #1967D2;\n",
              "      height: 32px;\n",
              "      padding: 0 0 0 0;\n",
              "      width: 32px;\n",
              "    }\n",
              "\n",
              "    .colab-df-convert:hover {\n",
              "      background-color: #E2EBFA;\n",
              "      box-shadow: 0px 1px 2px rgba(60, 64, 67, 0.3), 0px 1px 3px 1px rgba(60, 64, 67, 0.15);\n",
              "      fill: #174EA6;\n",
              "    }\n",
              "\n",
              "    .colab-df-buttons div {\n",
              "      margin-bottom: 4px;\n",
              "    }\n",
              "\n",
              "    [theme=dark] .colab-df-convert {\n",
              "      background-color: #3B4455;\n",
              "      fill: #D2E3FC;\n",
              "    }\n",
              "\n",
              "    [theme=dark] .colab-df-convert:hover {\n",
              "      background-color: #434B5C;\n",
              "      box-shadow: 0px 1px 3px 1px rgba(0, 0, 0, 0.15);\n",
              "      filter: drop-shadow(0px 1px 2px rgba(0, 0, 0, 0.3));\n",
              "      fill: #FFFFFF;\n",
              "    }\n",
              "  </style>\n",
              "\n",
              "    <script>\n",
              "      const buttonEl =\n",
              "        document.querySelector('#df-219fddd1-b980-4fda-8615-54d447c01500 button.colab-df-convert');\n",
              "      buttonEl.style.display =\n",
              "        google.colab.kernel.accessAllowed ? 'block' : 'none';\n",
              "\n",
              "      async function convertToInteractive(key) {\n",
              "        const element = document.querySelector('#df-219fddd1-b980-4fda-8615-54d447c01500');\n",
              "        const dataTable =\n",
              "          await google.colab.kernel.invokeFunction('convertToInteractive',\n",
              "                                                    [key], {});\n",
              "        if (!dataTable) return;\n",
              "\n",
              "        const docLinkHtml = 'Like what you see? Visit the ' +\n",
              "          '<a target=\"_blank\" href=https://colab.research.google.com/notebooks/data_table.ipynb>data table notebook</a>'\n",
              "          + ' to learn more about interactive tables.';\n",
              "        element.innerHTML = '';\n",
              "        dataTable['output_type'] = 'display_data';\n",
              "        await google.colab.output.renderOutput(dataTable, element);\n",
              "        const docLink = document.createElement('div');\n",
              "        docLink.innerHTML = docLinkHtml;\n",
              "        element.appendChild(docLink);\n",
              "      }\n",
              "    </script>\n",
              "  </div>\n",
              "\n",
              "\n",
              "<div id=\"df-e40969af-9523-4d53-aa0c-4ed08285a176\">\n",
              "  <button class=\"colab-df-quickchart\" onclick=\"quickchart('df-e40969af-9523-4d53-aa0c-4ed08285a176')\"\n",
              "            title=\"Suggest charts.\"\n",
              "            style=\"display:none;\">\n",
              "\n",
              "<svg xmlns=\"http://www.w3.org/2000/svg\" height=\"24px\"viewBox=\"0 0 24 24\"\n",
              "     width=\"24px\">\n",
              "    <g>\n",
              "        <path d=\"M19 3H5c-1.1 0-2 .9-2 2v14c0 1.1.9 2 2 2h14c1.1 0 2-.9 2-2V5c0-1.1-.9-2-2-2zM9 17H7v-7h2v7zm4 0h-2V7h2v10zm4 0h-2v-4h2v4z\"/>\n",
              "    </g>\n",
              "</svg>\n",
              "  </button>\n",
              "\n",
              "<style>\n",
              "  .colab-df-quickchart {\n",
              "      --bg-color: #E8F0FE;\n",
              "      --fill-color: #1967D2;\n",
              "      --hover-bg-color: #E2EBFA;\n",
              "      --hover-fill-color: #174EA6;\n",
              "      --disabled-fill-color: #AAA;\n",
              "      --disabled-bg-color: #DDD;\n",
              "  }\n",
              "\n",
              "  [theme=dark] .colab-df-quickchart {\n",
              "      --bg-color: #3B4455;\n",
              "      --fill-color: #D2E3FC;\n",
              "      --hover-bg-color: #434B5C;\n",
              "      --hover-fill-color: #FFFFFF;\n",
              "      --disabled-bg-color: #3B4455;\n",
              "      --disabled-fill-color: #666;\n",
              "  }\n",
              "\n",
              "  .colab-df-quickchart {\n",
              "    background-color: var(--bg-color);\n",
              "    border: none;\n",
              "    border-radius: 50%;\n",
              "    cursor: pointer;\n",
              "    display: none;\n",
              "    fill: var(--fill-color);\n",
              "    height: 32px;\n",
              "    padding: 0;\n",
              "    width: 32px;\n",
              "  }\n",
              "\n",
              "  .colab-df-quickchart:hover {\n",
              "    background-color: var(--hover-bg-color);\n",
              "    box-shadow: 0 1px 2px rgba(60, 64, 67, 0.3), 0 1px 3px 1px rgba(60, 64, 67, 0.15);\n",
              "    fill: var(--button-hover-fill-color);\n",
              "  }\n",
              "\n",
              "  .colab-df-quickchart-complete:disabled,\n",
              "  .colab-df-quickchart-complete:disabled:hover {\n",
              "    background-color: var(--disabled-bg-color);\n",
              "    fill: var(--disabled-fill-color);\n",
              "    box-shadow: none;\n",
              "  }\n",
              "\n",
              "  .colab-df-spinner {\n",
              "    border: 2px solid var(--fill-color);\n",
              "    border-color: transparent;\n",
              "    border-bottom-color: var(--fill-color);\n",
              "    animation:\n",
              "      spin 1s steps(1) infinite;\n",
              "  }\n",
              "\n",
              "  @keyframes spin {\n",
              "    0% {\n",
              "      border-color: transparent;\n",
              "      border-bottom-color: var(--fill-color);\n",
              "      border-left-color: var(--fill-color);\n",
              "    }\n",
              "    20% {\n",
              "      border-color: transparent;\n",
              "      border-left-color: var(--fill-color);\n",
              "      border-top-color: var(--fill-color);\n",
              "    }\n",
              "    30% {\n",
              "      border-color: transparent;\n",
              "      border-left-color: var(--fill-color);\n",
              "      border-top-color: var(--fill-color);\n",
              "      border-right-color: var(--fill-color);\n",
              "    }\n",
              "    40% {\n",
              "      border-color: transparent;\n",
              "      border-right-color: var(--fill-color);\n",
              "      border-top-color: var(--fill-color);\n",
              "    }\n",
              "    60% {\n",
              "      border-color: transparent;\n",
              "      border-right-color: var(--fill-color);\n",
              "    }\n",
              "    80% {\n",
              "      border-color: transparent;\n",
              "      border-right-color: var(--fill-color);\n",
              "      border-bottom-color: var(--fill-color);\n",
              "    }\n",
              "    90% {\n",
              "      border-color: transparent;\n",
              "      border-bottom-color: var(--fill-color);\n",
              "    }\n",
              "  }\n",
              "</style>\n",
              "\n",
              "  <script>\n",
              "    async function quickchart(key) {\n",
              "      const quickchartButtonEl =\n",
              "        document.querySelector('#' + key + ' button');\n",
              "      quickchartButtonEl.disabled = true;  // To prevent multiple clicks.\n",
              "      quickchartButtonEl.classList.add('colab-df-spinner');\n",
              "      try {\n",
              "        const charts = await google.colab.kernel.invokeFunction(\n",
              "            'suggestCharts', [key], {});\n",
              "      } catch (error) {\n",
              "        console.error('Error during call to suggestCharts:', error);\n",
              "      }\n",
              "      quickchartButtonEl.classList.remove('colab-df-spinner');\n",
              "      quickchartButtonEl.classList.add('colab-df-quickchart-complete');\n",
              "    }\n",
              "    (() => {\n",
              "      let quickchartButtonEl =\n",
              "        document.querySelector('#df-e40969af-9523-4d53-aa0c-4ed08285a176 button');\n",
              "      quickchartButtonEl.style.display =\n",
              "        google.colab.kernel.accessAllowed ? 'block' : 'none';\n",
              "    })();\n",
              "  </script>\n",
              "</div>\n",
              "    </div>\n",
              "  </div>\n"
            ]
          },
          "metadata": {},
          "execution_count": 88
        }
      ],
      "source": [
        "life = pd.read_table(\"/content/LifeExpectancy.txt\", delimiter = ' ')\n",
        "life = life.drop(columns=['Row'])\n",
        "life.head()"
      ]
    },
    {
      "cell_type": "markdown",
      "id": "4fde64ea",
      "metadata": {
        "id": "4fde64ea"
      },
      "source": [
        "#### 2. Create and print a scatterplot with the response on the $y$-axis and the other continuous variable on the $x$-axis. Comment on the the relationship between these two variables."
      ]
    },
    {
      "cell_type": "code",
      "execution_count": null,
      "id": "5964cc82",
      "metadata": {
        "attributes": {
          "classes": [],
          "fig.align": "'center'",
          "id": ""
        },
        "id": "5964cc82",
        "colab": {
          "base_uri": "https://localhost:8080/",
          "height": 387
        },
        "outputId": "73e5ecc3-244a-4a2a-caf0-491b3b340b69"
      },
      "outputs": [
        {
          "output_type": "display_data",
          "data": {
            "text/plain": [
              "<Figure size 400x400 with 1 Axes>"
            ],
            "image/png": "[encoded data removed]"
          },
          "metadata": {}
        }
      ],
      "source": [
        "# create a function that makes a scatterplot\n",
        "def life_scatter():\n",
        "    fig = plt.figure(figsize=(4, 4))\n",
        "    plt.scatter(x = life['PPGDP'], y = life['LifeExp'], s = 2)\n",
        "    plt.xlabel(\"PPGDP\")\n",
        "    plt.ylabel(\"LifeExp\")\n",
        "\n",
        "\n",
        "life_scatter()"
      ]
    },
    {
      "cell_type": "markdown",
      "id": "c8bdfd10",
      "metadata": {
        "id": "c8bdfd10"
      },
      "source": [
        "There's a strong linear correlation, but there's also an interaction goign on. This needs to be addressed!"
      ]
    },
    {
      "cell_type": "markdown",
      "id": "1102be3a",
      "metadata": {
        "id": "1102be3a"
      },
      "source": [
        "\n",
        "#### 3. Create and print a boxplot with the response on the $y$-axis and the categorical variable on the $x$-axis. Comment on the the relationship between these two variables."
      ]
    },
    {
      "cell_type": "code",
      "execution_count": null,
      "id": "80d02993",
      "metadata": {
        "attributes": {
          "classes": [],
          "fig.align": "'center'",
          "id": ""
        },
        "id": "80d02993",
        "colab": {
          "base_uri": "https://localhost:8080/",
          "height": 387
        },
        "outputId": "2b09483b-ea1f-4184-d1d1-847d5b7d9512"
      },
      "outputs": [
        {
          "output_type": "display_data",
          "data": {
            "text/plain": [
              "<Figure size 400x400 with 1 Axes>"
            ],
            "image/png": "[encoded data removed]"
          },
          "metadata": {}
        }
      ],
      "source": [
        "plt.figure(figsize = (4, 4))\n",
        "sns.boxplot(x = 'Group',\n",
        "            y = 'LifeExp',\n",
        "            data = life)\n",
        "plt.xlabel('Group')\n",
        "plt.ylabel('LifeExp')\n",
        "plt.show()"
      ]
    },
    {
      "cell_type": "markdown",
      "id": "be7bc0e5",
      "metadata": {
        "id": "be7bc0e5"
      },
      "source": [
        "Group definitely has an impact on Life Expectancy, as there are three distinct ranges for the different groups."
      ]
    },
    {
      "cell_type": "markdown",
      "id": "c857cf6e",
      "metadata": {
        "id": "c857cf6e"
      },
      "source": [
        "#### 4. Create and print a color-coded scatterplot using all of the variables that will be in your model. Hint: plot the response on the $y$-axis, the other continuous variable on the $x$-axis, and color the points by the categorical variable."
      ]
    },
    {
      "cell_type": "code",
      "execution_count": null,
      "id": "33561aa9",
      "metadata": {
        "attributes": {
          "classes": [],
          "fig.align": "'center'",
          "id": ""
        },
        "id": "33561aa9",
        "colab": {
          "base_uri": "https://localhost:8080/",
          "height": 387
        },
        "outputId": "bd63994d-3989-4dde-adc4-1e267f3c79d8"
      },
      "outputs": [
        {
          "output_type": "display_data",
          "data": {
            "text/plain": [
              "<Figure size 400x400 with 1 Axes>"
            ],
            "image/png": "[encoded data removed]"
          },
          "metadata": {}
        }
      ],
      "source": [
        "plt.figure(figsize = (4, 4))\n",
        "sns.scatterplot(data = life,\n",
        "                x = 'PPGDP',\n",
        "                y = 'LifeExp',\n",
        "                hue = 'Group',\n",
        "                )\n",
        "plt.xlabel('PPGDP')\n",
        "plt.ylabel('LifeExp')\n",
        "plt.legend(loc = 'upper right', bbox_to_anchor = (1.45, 1.02))\n",
        "plt.show()"
      ]
    },
    {
      "cell_type": "markdown",
      "id": "712e535f",
      "metadata": {
        "id": "712e535f"
      },
      "source": [
        "#### 5. Write out the general/theoretical model (using Greek letters/parameters) that you are thinking about applying to this data set (you will not write out the fitted model using coefficients, because you have not fit a model yet;)). DO NOT include interactions at this step. Remember, you will need to use dummy variables for Group. **USE \"other\" AS THE BASELINE CATEGORY**. Use variable names that are descriptive (not $y$, $x_1$, etc.)."
      ]
    },
    {
      "cell_type": "markdown",
      "id": "b07064c4",
      "metadata": {
        "id": "b07064c4"
      },
      "source": [
        "$\n",
        "LifeExp_i = \\beta_1*PPGDP + \\beta_2*I(Group=africa) + \\beta_3*I(Group=oecd)\n",
        "$"
      ]
    },
    {
      "cell_type": "markdown",
      "id": "8f7bc18f",
      "metadata": {
        "id": "8f7bc18f"
      },
      "source": [
        "#### 6. Code indicator/dummy variables for Group."
      ]
    },
    {
      "cell_type": "code",
      "execution_count": null,
      "id": "649bd502",
      "metadata": {
        "id": "649bd502",
        "colab": {
          "base_uri": "https://localhost:8080/",
          "height": 201
        },
        "outputId": "b23a90f6-dc6e-4d39-9500-2c3b62dab8da"
      },
      "outputs": [
        {
          "output_type": "execute_result",
          "data": {
            "text/plain": [
              "     Country      PPGDP  LifeExp  Group_africa  Group_oecd  Group_other\n",
              "0    Albania   8.209907    75.31             0           0            1\n",
              "1   Anguilla   9.528801    79.19             0           0            1\n",
              "2  Argentina   9.122831    77.72             0           0            1\n",
              "3    Armenia   8.016549    74.54             0           0            1\n",
              "4      Aruba  10.036772    79.80             0           0            1"
            ],
            "text/html": [
              "\n",
              "  <div id=\"df-b19736ff-1ac2-48dc-b871-b734a0361fa1\" class=\"colab-df-container\">\n",
              "    <div>\n",
              "<style scoped>\n",
              "    .dataframe tbody tr th:only-of-type {\n",
              "        vertical-align: middle;\n",
              "    }\n",
              "\n",
              "    .dataframe tbody tr th {\n",
              "        vertical-align: top;\n",
              "    }\n",
              "\n",
              "    .dataframe thead th {\n",
              "        text-align: right;\n",
              "    }\n",
              "</style>\n",
              "<table border=\"1\" class=\"dataframe\">\n",
              "  <thead>\n",
              "    <tr style=\"text-align: right;\">\n",
              "      <th></th>\n",
              "      <th>Country</th>\n",
              "      <th>PPGDP</th>\n",
              "      <th>LifeExp</th>\n",
              "      <th>Group_africa</th>\n",
              "      <th>Group_oecd</th>\n",
              "      <th>Group_other</th>\n",
              "    </tr>\n",
              "  </thead>\n",
              "  <tbody>\n",
              "    <tr>\n",
              "      <th>0</th>\n",
              "      <td>Albania</td>\n",
              "      <td>8.209907</td>\n",
              "      <td>75.31</td>\n",
              "      <td>0</td>\n",
              "      <td>0</td>\n",
              "      <td>1</td>\n",
              "    </tr>\n",
              "    <tr>\n",
              "      <th>1</th>\n",
              "      <td>Anguilla</td>\n",
              "      <td>9.528801</td>\n",
              "      <td>79.19</td>\n",
              "      <td>0</td>\n",
              "      <td>0</td>\n",
              "      <td>1</td>\n",
              "    </tr>\n",
              "    <tr>\n",
              "      <th>2</th>\n",
              "      <td>Argentina</td>\n",
              "      <td>9.122831</td>\n",
              "      <td>77.72</td>\n",
              "      <td>0</td>\n",
              "      <td>0</td>\n",
              "      <td>1</td>\n",
              "    </tr>\n",
              "    <tr>\n",
              "      <th>3</th>\n",
              "      <td>Armenia</td>\n",
              "      <td>8.016549</td>\n",
              "      <td>74.54</td>\n",
              "      <td>0</td>\n",
              "      <td>0</td>\n",
              "      <td>1</td>\n",
              "    </tr>\n",
              "    <tr>\n",
              "      <th>4</th>\n",
              "      <td>Aruba</td>\n",
              "      <td>10.036772</td>\n",
              "      <td>79.80</td>\n",
              "      <td>0</td>\n",
              "      <td>0</td>\n",
              "      <td>1</td>\n",
              "    </tr>\n",
              "  </tbody>\n",
              "</table>\n",
              "</div>\n",
              "    <div class=\"colab-df-buttons\">\n",
              "\n",
              "  <div class=\"colab-df-container\">\n",
              "    <button class=\"colab-df-convert\" onclick=\"convertToInteractive('df-b19736ff-1ac2-48dc-b871-b734a0361fa1')\"\n",
              "            title=\"Convert this dataframe to an interactive table.\"\n",
              "            style=\"display:none;\">\n",
              "\n",
              "  <svg xmlns=\"http://www.w3.org/2000/svg\" height=\"24px\" viewBox=\"0 -960 960 960\">\n",
              "    <path d=\"M120-120v-720h720v720H120Zm60-500h600v-160H180v160Zm220 220h160v-160H400v160Zm0 220h160v-160H400v160ZM180-400h160v-160H180v160Zm440 0h160v-160H620v160ZM180-180h160v-160H180v160Zm440 0h160v-160H620v160Z\"/>\n",
              "  </svg>\n",
              "    </button>\n",
              "\n",
              "  <style>\n",
              "    .colab-df-container {\n",
              "      display:flex;\n",
              "      gap: 12px;\n",
              "    }\n",
              "\n",
              "    .colab-df-convert {\n",
              "      background-color: #E8F0FE;\n",
              "      border: none;\n",
              "      border-radius: 50%;\n",
              "      cursor: pointer;\n",
              "      display: none;\n",
              "      fill: #1967D2;\n",
              "      height: 32px;\n",
              "      padding: 0 0 0 0;\n",
              "      width: 32px;\n",
              "    }\n",
              "\n",
              "    .colab-df-convert:hover {\n",
              "      background-color: #E2EBFA;\n",
              "      box-shadow: 0px 1px 2px rgba(60, 64, 67, 0.3), 0px 1px 3px 1px rgba(60, 64, 67, 0.15);\n",
              "      fill: #174EA6;\n",
              "    }\n",
              "\n",
              "    .colab-df-buttons div {\n",
              "      margin-bottom: 4px;\n",
              "    }\n",
              "\n",
              "    [theme=dark] .colab-df-convert {\n",
              "      background-color: #3B4455;\n",
              "      fill: #D2E3FC;\n",
              "    }\n",
              "\n",
              "    [theme=dark] .colab-df-convert:hover {\n",
              "      background-color: #434B5C;\n",
              "      box-shadow: 0px 1px 3px 1px rgba(0, 0, 0, 0.15);\n",
              "      filter: drop-shadow(0px 1px 2px rgba(0, 0, 0, 0.3));\n",
              "      fill: #FFFFFF;\n",
              "    }\n",
              "  </style>\n",
              "\n",
              "    <script>\n",
              "      const buttonEl =\n",
              "        document.querySelector('#df-b19736ff-1ac2-48dc-b871-b734a0361fa1 button.colab-df-convert');\n",
              "      buttonEl.style.display =\n",
              "        google.colab.kernel.accessAllowed ? 'block' : 'none';\n",
              "\n",
              "      async function convertToInteractive(key) {\n",
              "        const element = document.querySelector('#df-b19736ff-1ac2-48dc-b871-b734a0361fa1');\n",
              "        const dataTable =\n",
              "          await google.colab.kernel.invokeFunction('convertToInteractive',\n",
              "                                                    [key], {});\n",
              "        if (!dataTable) return;\n",
              "\n",
              "        const docLinkHtml = 'Like what you see? Visit the ' +\n",
              "          '<a target=\"_blank\" href=https://colab.research.google.com/notebooks/data_table.ipynb>data table notebook</a>'\n",
              "          + ' to learn more about interactive tables.';\n",
              "        element.innerHTML = '';\n",
              "        dataTable['output_type'] = 'display_data';\n",
              "        await google.colab.output.renderOutput(dataTable, element);\n",
              "        const docLink = document.createElement('div');\n",
              "        docLink.innerHTML = docLinkHtml;\n",
              "        element.appendChild(docLink);\n",
              "      }\n",
              "    </script>\n",
              "  </div>\n",
              "\n",
              "\n",
              "<div id=\"df-1e7605b2-ad97-42b3-a927-d6bc727e0029\">\n",
              "  <button class=\"colab-df-quickchart\" onclick=\"quickchart('df-1e7605b2-ad97-42b3-a927-d6bc727e0029')\"\n",
              "            title=\"Suggest charts.\"\n",
              "            style=\"display:none;\">\n",
              "\n",
              "<svg xmlns=\"http://www.w3.org/2000/svg\" height=\"24px\"viewBox=\"0 0 24 24\"\n",
              "     width=\"24px\">\n",
              "    <g>\n",
              "        <path d=\"M19 3H5c-1.1 0-2 .9-2 2v14c0 1.1.9 2 2 2h14c1.1 0 2-.9 2-2V5c0-1.1-.9-2-2-2zM9 17H7v-7h2v7zm4 0h-2V7h2v10zm4 0h-2v-4h2v4z\"/>\n",
              "    </g>\n",
              "</svg>\n",
              "  </button>\n",
              "\n",
              "<style>\n",
              "  .colab-df-quickchart {\n",
              "      --bg-color: #E8F0FE;\n",
              "      --fill-color: #1967D2;\n",
              "      --hover-bg-color: #E2EBFA;\n",
              "      --hover-fill-color: #174EA6;\n",
              "      --disabled-fill-color: #AAA;\n",
              "      --disabled-bg-color: #DDD;\n",
              "  }\n",
              "\n",
              "  [theme=dark] .colab-df-quickchart {\n",
              "      --bg-color: #3B4455;\n",
              "      --fill-color: #D2E3FC;\n",
              "      --hover-bg-color: #434B5C;\n",
              "      --hover-fill-color: #FFFFFF;\n",
              "      --disabled-bg-color: #3B4455;\n",
              "      --disabled-fill-color: #666;\n",
              "  }\n",
              "\n",
              "  .colab-df-quickchart {\n",
              "    background-color: var(--bg-color);\n",
              "    border: none;\n",
              "    border-radius: 50%;\n",
              "    cursor: pointer;\n",
              "    display: none;\n",
              "    fill: var(--fill-color);\n",
              "    height: 32px;\n",
              "    padding: 0;\n",
              "    width: 32px;\n",
              "  }\n",
              "\n",
              "  .colab-df-quickchart:hover {\n",
              "    background-color: var(--hover-bg-color);\n",
              "    box-shadow: 0 1px 2px rgba(60, 64, 67, 0.3), 0 1px 3px 1px rgba(60, 64, 67, 0.15);\n",
              "    fill: var(--button-hover-fill-color);\n",
              "  }\n",
              "\n",
              "  .colab-df-quickchart-complete:disabled,\n",
              "  .colab-df-quickchart-complete:disabled:hover {\n",
              "    background-color: var(--disabled-bg-color);\n",
              "    fill: var(--disabled-fill-color);\n",
              "    box-shadow: none;\n",
              "  }\n",
              "\n",
              "  .colab-df-spinner {\n",
              "    border: 2px solid var(--fill-color);\n",
              "    border-color: transparent;\n",
              "    border-bottom-color: var(--fill-color);\n",
              "    animation:\n",
              "      spin 1s steps(1) infinite;\n",
              "  }\n",
              "\n",
              "  @keyframes spin {\n",
              "    0% {\n",
              "      border-color: transparent;\n",
              "      border-bottom-color: var(--fill-color);\n",
              "      border-left-color: var(--fill-color);\n",
              "    }\n",
              "    20% {\n",
              "      border-color: transparent;\n",
              "      border-left-color: var(--fill-color);\n",
              "      border-top-color: var(--fill-color);\n",
              "    }\n",
              "    30% {\n",
              "      border-color: transparent;\n",
              "      border-left-color: var(--fill-color);\n",
              "      border-top-color: var(--fill-color);\n",
              "      border-right-color: var(--fill-color);\n",
              "    }\n",
              "    40% {\n",
              "      border-color: transparent;\n",
              "      border-right-color: var(--fill-color);\n",
              "      border-top-color: var(--fill-color);\n",
              "    }\n",
              "    60% {\n",
              "      border-color: transparent;\n",
              "      border-right-color: var(--fill-color);\n",
              "    }\n",
              "    80% {\n",
              "      border-color: transparent;\n",
              "      border-right-color: var(--fill-color);\n",
              "      border-bottom-color: var(--fill-color);\n",
              "    }\n",
              "    90% {\n",
              "      border-color: transparent;\n",
              "      border-bottom-color: var(--fill-color);\n",
              "    }\n",
              "  }\n",
              "</style>\n",
              "\n",
              "  <script>\n",
              "    async function quickchart(key) {\n",
              "      const quickchartButtonEl =\n",
              "        document.querySelector('#' + key + ' button');\n",
              "      quickchartButtonEl.disabled = true;  // To prevent multiple clicks.\n",
              "      quickchartButtonEl.classList.add('colab-df-spinner');\n",
              "      try {\n",
              "        const charts = await google.colab.kernel.invokeFunction(\n",
              "            'suggestCharts', [key], {});\n",
              "      } catch (error) {\n",
              "        console.error('Error during call to suggestCharts:', error);\n",
              "      }\n",
              "      quickchartButtonEl.classList.remove('colab-df-spinner');\n",
              "      quickchartButtonEl.classList.add('colab-df-quickchart-complete');\n",
              "    }\n",
              "    (() => {\n",
              "      let quickchartButtonEl =\n",
              "        document.querySelector('#df-1e7605b2-ad97-42b3-a927-d6bc727e0029 button');\n",
              "      quickchartButtonEl.style.display =\n",
              "        google.colab.kernel.accessAllowed ? 'block' : 'none';\n",
              "    })();\n",
              "  </script>\n",
              "</div>\n",
              "    </div>\n",
              "  </div>\n"
            ]
          },
          "metadata": {},
          "execution_count": 92
        }
      ],
      "source": [
        "LifeExp_dummy = pd.get_dummies(life,\n",
        "                              columns = ['Group'])\n",
        "LifeExp_dummy.head()"
      ]
    },
    {
      "cell_type": "markdown",
      "id": "ff1eff5c",
      "metadata": {
        "id": "ff1eff5c"
      },
      "source": [
        "#### 7. Fit a multiple linear regression model to the data (no transformations, no interactions, etc.) using \"other\" as the baseline for group. Print a summary of the results."
      ]
    },
    {
      "cell_type": "code",
      "execution_count": null,
      "id": "d1b61295",
      "metadata": {
        "id": "d1b61295",
        "colab": {
          "base_uri": "https://localhost:8080/",
          "height": 472
        },
        "outputId": "9abb7dc6-a464-49e9-9bd7-c364a3d48723"
      },
      "outputs": [
        {
          "output_type": "execute_result",
          "data": {
            "text/plain": [
              "<class 'statsmodels.iolib.summary.Summary'>\n",
              "\"\"\"\n",
              "                            OLS Regression Results                            \n",
              "==============================================================================\n",
              "Dep. Variable:                LifeExp   R-squared:                       0.986\n",
              "Model:                            OLS   Adj. R-squared:                  0.986\n",
              "Method:                 Least Squares   F-statistic:                     4080.\n",
              "Date:                Fri, 03 Nov 2023   Prob (F-statistic):          4.48e-163\n",
              "Time:                        04:05:52   Log-Likelihood:                -268.31\n",
              "No. Observations:                 181   AIC:                             544.6\n",
              "Df Residuals:                     177   BIC:                             557.4\n",
              "Df Model:                           3                                         \n",
              "Covariance Type:            nonrobust                                         \n",
              "================================================================================\n",
              "                   coef    std err          t      P>|t|      [0.025      0.975]\n",
              "--------------------------------------------------------------------------------\n",
              "const           50.9579      0.653     78.070      0.000      49.670      52.246\n",
              "PPGDP            2.8769      0.075     38.470      0.000       2.729       3.024\n",
              "Group_africa   -12.2943      0.257    -47.789      0.000     -12.802     -11.787\n",
              "Group_oecd       1.5298      0.254      6.019      0.000       1.028       2.031\n",
              "==============================================================================\n",
              "Omnibus:                        0.441   Durbin-Watson:                   2.080\n",
              "Prob(Omnibus):                  0.802   Jarque-Bera (JB):                0.333\n",
              "Skew:                           0.105   Prob(JB):                        0.847\n",
              "Kurtosis:                       3.015   Cond. No.                         75.0\n",
              "==============================================================================\n",
              "\n",
              "Notes:\n",
              "[1] Standard Errors assume that the covariance matrix of the errors is correctly specified.\n",
              "\"\"\""
            ],
            "text/html": [
              "<table class=\"simpletable\">\n",
              "<caption>OLS Regression Results</caption>\n",
              "<tr>\n",
              "  <th>Dep. Variable:</th>         <td>LifeExp</td>     <th>  R-squared:         </th> <td>   0.986</td> \n",
              "</tr>\n",
              "<tr>\n",
              "  <th>Model:</th>                   <td>OLS</td>       <th>  Adj. R-squared:    </th> <td>   0.986</td> \n",
              "</tr>\n",
              "<tr>\n",
              "  <th>Method:</th>             <td>Least Squares</td>  <th>  F-statistic:       </th> <td>   4080.</td> \n",
              "</tr>\n",
              "<tr>\n",
              "  <th>Date:</th>             <td>Fri, 03 Nov 2023</td> <th>  Prob (F-statistic):</th> <td>4.48e-163</td>\n",
              "</tr>\n",
              "<tr>\n",
              "  <th>Time:</th>                 <td>04:05:52</td>     <th>  Log-Likelihood:    </th> <td> -268.31</td> \n",
              "</tr>\n",
              "<tr>\n",
              "  <th>No. Observations:</th>      <td>   181</td>      <th>  AIC:               </th> <td>   544.6</td> \n",
              "</tr>\n",
              "<tr>\n",
              "  <th>Df Residuals:</th>          <td>   177</td>      <th>  BIC:               </th> <td>   557.4</td> \n",
              "</tr>\n",
              "<tr>\n",
              "  <th>Df Model:</th>              <td>     3</td>      <th>                     </th>     <td> </td>    \n",
              "</tr>\n",
              "<tr>\n",
              "  <th>Covariance Type:</th>      <td>nonrobust</td>    <th>                     </th>     <td> </td>    \n",
              "</tr>\n",
              "</table>\n",
              "<table class=\"simpletable\">\n",
              "<tr>\n",
              "        <td></td>          <th>coef</th>     <th>std err</th>      <th>t</th>      <th>P>|t|</th>  <th>[0.025</th>    <th>0.975]</th>  \n",
              "</tr>\n",
              "<tr>\n",
              "  <th>const</th>        <td>   50.9579</td> <td>    0.653</td> <td>   78.070</td> <td> 0.000</td> <td>   49.670</td> <td>   52.246</td>\n",
              "</tr>\n",
              "<tr>\n",
              "  <th>PPGDP</th>        <td>    2.8769</td> <td>    0.075</td> <td>   38.470</td> <td> 0.000</td> <td>    2.729</td> <td>    3.024</td>\n",
              "</tr>\n",
              "<tr>\n",
              "  <th>Group_africa</th> <td>  -12.2943</td> <td>    0.257</td> <td>  -47.789</td> <td> 0.000</td> <td>  -12.802</td> <td>  -11.787</td>\n",
              "</tr>\n",
              "<tr>\n",
              "  <th>Group_oecd</th>   <td>    1.5298</td> <td>    0.254</td> <td>    6.019</td> <td> 0.000</td> <td>    1.028</td> <td>    2.031</td>\n",
              "</tr>\n",
              "</table>\n",
              "<table class=\"simpletable\">\n",
              "<tr>\n",
              "  <th>Omnibus:</th>       <td> 0.441</td> <th>  Durbin-Watson:     </th> <td>   2.080</td>\n",
              "</tr>\n",
              "<tr>\n",
              "  <th>Prob(Omnibus):</th> <td> 0.802</td> <th>  Jarque-Bera (JB):  </th> <td>   0.333</td>\n",
              "</tr>\n",
              "<tr>\n",
              "  <th>Skew:</th>          <td> 0.105</td> <th>  Prob(JB):          </th> <td>   0.847</td>\n",
              "</tr>\n",
              "<tr>\n",
              "  <th>Kurtosis:</th>      <td> 3.015</td> <th>  Cond. No.          </th> <td>    75.0</td>\n",
              "</tr>\n",
              "</table><br/><br/>Notes:<br/>[1] Standard Errors assume that the covariance matrix of the errors is correctly specified."
            ],
            "text/latex": "\\begin{center}\n\\begin{tabular}{lclc}\n\\toprule\n\\textbf{Dep. Variable:}    &     LifeExp      & \\textbf{  R-squared:         } &     0.986   \\\\\n\\textbf{Model:}            &       OLS        & \\textbf{  Adj. R-squared:    } &     0.986   \\\\\n\\textbf{Method:}           &  Least Squares   & \\textbf{  F-statistic:       } &     4080.   \\\\\n\\textbf{Date:}             & Fri, 03 Nov 2023 & \\textbf{  Prob (F-statistic):} & 4.48e-163   \\\\\n\\textbf{Time:}             &     04:05:52     & \\textbf{  Log-Likelihood:    } &   -268.31   \\\\\n\\textbf{No. Observations:} &         181      & \\textbf{  AIC:               } &     544.6   \\\\\n\\textbf{Df Residuals:}     &         177      & \\textbf{  BIC:               } &     557.4   \\\\\n\\textbf{Df Model:}         &           3      & \\textbf{                     } &             \\\\\n\\textbf{Covariance Type:}  &    nonrobust     & \\textbf{                     } &             \\\\\n\\bottomrule\n\\end{tabular}\n\\begin{tabular}{lcccccc}\n                       & \\textbf{coef} & \\textbf{std err} & \\textbf{t} & \\textbf{P$> |$t$|$} & \\textbf{[0.025} & \\textbf{0.975]}  \\\\\n\\midrule\n\\textbf{const}         &      50.9579  &        0.653     &    78.070  &         0.000        &       49.670    &       52.246     \\\\\n\\textbf{PPGDP}         &       2.8769  &        0.075     &    38.470  &         0.000        &        2.729    &        3.024     \\\\\n\\textbf{Group\\_africa} &     -12.2943  &        0.257     &   -47.789  &         0.000        &      -12.802    &      -11.787     \\\\\n\\textbf{Group\\_oecd}   &       1.5298  &        0.254     &     6.019  &         0.000        &        1.028    &        2.031     \\\\\n\\bottomrule\n\\end{tabular}\n\\begin{tabular}{lclc}\n\\textbf{Omnibus:}       &  0.441 & \\textbf{  Durbin-Watson:     } &    2.080  \\\\\n\\textbf{Prob(Omnibus):} &  0.802 & \\textbf{  Jarque-Bera (JB):  } &    0.333  \\\\\n\\textbf{Skew:}          &  0.105 & \\textbf{  Prob(JB):          } &    0.847  \\\\\n\\textbf{Kurtosis:}      &  3.015 & \\textbf{  Cond. No.          } &     75.0  \\\\\n\\bottomrule\n\\end{tabular}\n%\\caption{OLS Regression Results}\n\\end{center}\n\nNotes: \\newline\n [1] Standard Errors assume that the covariance matrix of the errors is correctly specified."
          },
          "metadata": {},
          "execution_count": 93
        }
      ],
      "source": [
        "y = LifeExp_dummy['LifeExp']\n",
        "X_full = sm.add_constant(LifeExp_dummy[['PPGDP',\n",
        "                                       'Group_africa', 'Group_oecd'\n",
        "                                       ]])\n",
        "mod_full = sm.OLS(y, X_full)\n",
        "res_full = mod_full.fit()\n",
        "res_full.summary()"
      ]
    },
    {
      "cell_type": "markdown",
      "id": "0bea3d60",
      "metadata": {
        "id": "0bea3d60"
      },
      "source": [
        "#### 8. Briefly interpret the intercept (like we did in class). **Note that you will need to use the word \"average\" (or similar) twice since you are predicting an average already.** You will need to do this (say average twice) here and with the questions that follow when interpreting.\n"
      ]
    },
    {
      "cell_type": "markdown",
      "id": "90404276",
      "metadata": {
        "id": "90404276"
      },
      "source": [
        "For countries with a PPGDP of 0 and from the 'other' category, their average life expectancy will be 50.9579 years."
      ]
    },
    {
      "cell_type": "markdown",
      "id": "dbef4ccf",
      "metadata": {
        "id": "dbef4ccf"
      },
      "source": [
        "\n",
        "#### 9. Briefly interpret the coefficient for PPGDP (log scale) (like we did in class). You do not need to un-transform anything - you can just write something like \"per person GDP (log scale)\" in your response.\n"
      ]
    },
    {
      "cell_type": "markdown",
      "id": "3287926b",
      "metadata": {
        "id": "3287926b"
      },
      "source": [
        "Countries in the same group will have an average of 2.8769 more years of life expectancy for each one-unit increase in per person GDP (log scale)."
      ]
    },
    {
      "cell_type": "markdown",
      "id": "e5552fe9",
      "metadata": {
        "id": "e5552fe9"
      },
      "source": [
        "\n",
        "#### 10. For equal per person GDP (log scale), how does life expectancy change for countries that are members of the OECD compared to countries that are on the African continent? Show how you obtained this number, and briefly interpret this number (like we did in class).\n"
      ]
    },
    {
      "cell_type": "markdown",
      "id": "686f67c6",
      "metadata": {
        "id": "686f67c6"
      },
      "source": [
        "For equal per person GDP (log scale), life expectancy increases by 13.8421 years for countries that are menbers of the OECD compared to countries on the African Continent.\n",
        "\n",
        "I determined this by taking the coefficient for OECD, 1.258, and subtracting the coefficient for Africa, -12.2943."
      ]
    },
    {
      "cell_type": "markdown",
      "id": "1d30f600",
      "metadata": {
        "id": "1d30f600"
      },
      "source": [
        "#### 11. Briefly interpret the 95% confidence interval for I(Group=Africa).\n"
      ]
    },
    {
      "cell_type": "markdown",
      "source": [
        "We are 95% confident that countries in Africa will have an average life expectancy less than the 'other' group by between -12.802\tand -11.787 years."
      ],
      "metadata": {
        "id": "ZVD-L_1WIMRP"
      },
      "id": "ZVD-L_1WIMRP"
    },
    {
      "cell_type": "markdown",
      "id": "bfab2a40",
      "metadata": {
        "id": "bfab2a40"
      },
      "source": [
        "#### 12. Use the `anova_lm` function from statsmodels to conduct a hypothesis test that tests some coefficients simultaneously. Specifically, test if Group as a whole has a significant effect on LifeExp. What do you conclude from the result of the test? Hint: you will need to create another linear model and compare it with the one you made previously."
      ]
    },
    {
      "cell_type": "code",
      "execution_count": null,
      "id": "a126360c",
      "metadata": {
        "id": "a126360c",
        "colab": {
          "base_uri": "https://localhost:8080/",
          "height": 432
        },
        "outputId": "8132ca06-7dd6-4ed1-d6c6-f5e9c8488c4a"
      },
      "outputs": [
        {
          "output_type": "execute_result",
          "data": {
            "text/plain": [
              "<class 'statsmodels.iolib.summary.Summary'>\n",
              "\"\"\"\n",
              "                            OLS Regression Results                            \n",
              "==============================================================================\n",
              "Dep. Variable:                LifeExp   R-squared:                       0.802\n",
              "Model:                            OLS   Adj. R-squared:                  0.801\n",
              "Method:                 Least Squares   F-statistic:                     723.5\n",
              "Date:                Fri, 03 Nov 2023   Prob (F-statistic):           8.69e-65\n",
              "Time:                        04:05:52   Log-Likelihood:                -506.58\n",
              "No. Observations:                 181   AIC:                             1017.\n",
              "Df Residuals:                     179   BIC:                             1024.\n",
              "Df Model:                           1                                         \n",
              "Covariance Type:            nonrobust                                         \n",
              "==============================================================================\n",
              "                 coef    std err          t      P>|t|      [0.025      0.975]\n",
              "------------------------------------------------------------------------------\n",
              "const         30.5956      1.609     19.013      0.000      27.420      33.771\n",
              "PPGDP          5.0097      0.186     26.898      0.000       4.642       5.377\n",
              "==============================================================================\n",
              "Omnibus:                        5.899   Durbin-Watson:                   2.141\n",
              "Prob(Omnibus):                  0.052   Jarque-Bera (JB):                6.014\n",
              "Skew:                          -0.422   Prob(JB):                       0.0494\n",
              "Kurtosis:                       2.706   Cond. No.                         47.4\n",
              "==============================================================================\n",
              "\n",
              "Notes:\n",
              "[1] Standard Errors assume that the covariance matrix of the errors is correctly specified.\n",
              "\"\"\""
            ],
            "text/html": [
              "<table class=\"simpletable\">\n",
              "<caption>OLS Regression Results</caption>\n",
              "<tr>\n",
              "  <th>Dep. Variable:</th>         <td>LifeExp</td>     <th>  R-squared:         </th> <td>   0.802</td>\n",
              "</tr>\n",
              "<tr>\n",
              "  <th>Model:</th>                   <td>OLS</td>       <th>  Adj. R-squared:    </th> <td>   0.801</td>\n",
              "</tr>\n",
              "<tr>\n",
              "  <th>Method:</th>             <td>Least Squares</td>  <th>  F-statistic:       </th> <td>   723.5</td>\n",
              "</tr>\n",
              "<tr>\n",
              "  <th>Date:</th>             <td>Fri, 03 Nov 2023</td> <th>  Prob (F-statistic):</th> <td>8.69e-65</td>\n",
              "</tr>\n",
              "<tr>\n",
              "  <th>Time:</th>                 <td>04:05:52</td>     <th>  Log-Likelihood:    </th> <td> -506.58</td>\n",
              "</tr>\n",
              "<tr>\n",
              "  <th>No. Observations:</th>      <td>   181</td>      <th>  AIC:               </th> <td>   1017.</td>\n",
              "</tr>\n",
              "<tr>\n",
              "  <th>Df Residuals:</th>          <td>   179</td>      <th>  BIC:               </th> <td>   1024.</td>\n",
              "</tr>\n",
              "<tr>\n",
              "  <th>Df Model:</th>              <td>     1</td>      <th>                     </th>     <td> </td>   \n",
              "</tr>\n",
              "<tr>\n",
              "  <th>Covariance Type:</th>      <td>nonrobust</td>    <th>                     </th>     <td> </td>   \n",
              "</tr>\n",
              "</table>\n",
              "<table class=\"simpletable\">\n",
              "<tr>\n",
              "    <td></td>       <th>coef</th>     <th>std err</th>      <th>t</th>      <th>P>|t|</th>  <th>[0.025</th>    <th>0.975]</th>  \n",
              "</tr>\n",
              "<tr>\n",
              "  <th>const</th> <td>   30.5956</td> <td>    1.609</td> <td>   19.013</td> <td> 0.000</td> <td>   27.420</td> <td>   33.771</td>\n",
              "</tr>\n",
              "<tr>\n",
              "  <th>PPGDP</th> <td>    5.0097</td> <td>    0.186</td> <td>   26.898</td> <td> 0.000</td> <td>    4.642</td> <td>    5.377</td>\n",
              "</tr>\n",
              "</table>\n",
              "<table class=\"simpletable\">\n",
              "<tr>\n",
              "  <th>Omnibus:</th>       <td> 5.899</td> <th>  Durbin-Watson:     </th> <td>   2.141</td>\n",
              "</tr>\n",
              "<tr>\n",
              "  <th>Prob(Omnibus):</th> <td> 0.052</td> <th>  Jarque-Bera (JB):  </th> <td>   6.014</td>\n",
              "</tr>\n",
              "<tr>\n",
              "  <th>Skew:</th>          <td>-0.422</td> <th>  Prob(JB):          </th> <td>  0.0494</td>\n",
              "</tr>\n",
              "<tr>\n",
              "  <th>Kurtosis:</th>      <td> 2.706</td> <th>  Cond. No.          </th> <td>    47.4</td>\n",
              "</tr>\n",
              "</table><br/><br/>Notes:<br/>[1] Standard Errors assume that the covariance matrix of the errors is correctly specified."
            ],
            "text/latex": "\\begin{center}\n\\begin{tabular}{lclc}\n\\toprule\n\\textbf{Dep. Variable:}    &     LifeExp      & \\textbf{  R-squared:         } &     0.802   \\\\\n\\textbf{Model:}            &       OLS        & \\textbf{  Adj. R-squared:    } &     0.801   \\\\\n\\textbf{Method:}           &  Least Squares   & \\textbf{  F-statistic:       } &     723.5   \\\\\n\\textbf{Date:}             & Fri, 03 Nov 2023 & \\textbf{  Prob (F-statistic):} &  8.69e-65   \\\\\n\\textbf{Time:}             &     04:05:52     & \\textbf{  Log-Likelihood:    } &   -506.58   \\\\\n\\textbf{No. Observations:} &         181      & \\textbf{  AIC:               } &     1017.   \\\\\n\\textbf{Df Residuals:}     &         179      & \\textbf{  BIC:               } &     1024.   \\\\\n\\textbf{Df Model:}         &           1      & \\textbf{                     } &             \\\\\n\\textbf{Covariance Type:}  &    nonrobust     & \\textbf{                     } &             \\\\\n\\bottomrule\n\\end{tabular}\n\\begin{tabular}{lcccccc}\n               & \\textbf{coef} & \\textbf{std err} & \\textbf{t} & \\textbf{P$> |$t$|$} & \\textbf{[0.025} & \\textbf{0.975]}  \\\\\n\\midrule\n\\textbf{const} &      30.5956  &        1.609     &    19.013  &         0.000        &       27.420    &       33.771     \\\\\n\\textbf{PPGDP} &       5.0097  &        0.186     &    26.898  &         0.000        &        4.642    &        5.377     \\\\\n\\bottomrule\n\\end{tabular}\n\\begin{tabular}{lclc}\n\\textbf{Omnibus:}       &  5.899 & \\textbf{  Durbin-Watson:     } &    2.141  \\\\\n\\textbf{Prob(Omnibus):} &  0.052 & \\textbf{  Jarque-Bera (JB):  } &    6.014  \\\\\n\\textbf{Skew:}          & -0.422 & \\textbf{  Prob(JB):          } &   0.0494  \\\\\n\\textbf{Kurtosis:}      &  2.706 & \\textbf{  Cond. No.          } &     47.4  \\\\\n\\bottomrule\n\\end{tabular}\n%\\caption{OLS Regression Results}\n\\end{center}\n\nNotes: \\newline\n [1] Standard Errors assume that the covariance matrix of the errors is correctly specified."
          },
          "metadata": {},
          "execution_count": 94
        }
      ],
      "source": [
        "y = LifeExp_dummy['LifeExp']\n",
        "X_full = sm.add_constant(LifeExp_dummy[['PPGDP']])\n",
        "\n",
        "mod_ng = sm.OLS(y, X_full)\n",
        "res_ng = mod_ng.fit()\n",
        "res_ng.summary()"
      ]
    },
    {
      "cell_type": "code",
      "source": [
        "anova_lm(res_ng, res_full)"
      ],
      "metadata": {
        "colab": {
          "base_uri": "https://localhost:8080/",
          "height": 109
        },
        "id": "imTdMU1dRjaB",
        "outputId": "b39162b4-5da3-4719-ef75-25468fdf7d4c"
      },
      "id": "imTdMU1dRjaB",
      "execution_count": null,
      "outputs": [
        {
          "output_type": "execute_result",
          "data": {
            "text/plain": [
              "   df_resid          ssr  df_diff      ss_diff            F         Pr(>F)\n",
              "0     179.0  2858.842765      0.0          NaN          NaN            NaN\n",
              "1     177.0   205.477622      2.0  2653.365143  1142.814545  6.409470e-102"
            ],
            "text/html": [
              "\n",
              "  <div id=\"df-1429082e-ccbf-4cf5-9602-a7c0bc87fca7\" class=\"colab-df-container\">\n",
              "    <div>\n",
              "<style scoped>\n",
              "    .dataframe tbody tr th:only-of-type {\n",
              "        vertical-align: middle;\n",
              "    }\n",
              "\n",
              "    .dataframe tbody tr th {\n",
              "        vertical-align: top;\n",
              "    }\n",
              "\n",
              "    .dataframe thead th {\n",
              "        text-align: right;\n",
              "    }\n",
              "</style>\n",
              "<table border=\"1\" class=\"dataframe\">\n",
              "  <thead>\n",
              "    <tr style=\"text-align: right;\">\n",
              "      <th></th>\n",
              "      <th>df_resid</th>\n",
              "      <th>ssr</th>\n",
              "      <th>df_diff</th>\n",
              "      <th>ss_diff</th>\n",
              "      <th>F</th>\n",
              "      <th>Pr(&gt;F)</th>\n",
              "    </tr>\n",
              "  </thead>\n",
              "  <tbody>\n",
              "    <tr>\n",
              "      <th>0</th>\n",
              "      <td>179.0</td>\n",
              "      <td>2858.842765</td>\n",
              "      <td>0.0</td>\n",
              "      <td>NaN</td>\n",
              "      <td>NaN</td>\n",
              "      <td>NaN</td>\n",
              "    </tr>\n",
              "    <tr>\n",
              "      <th>1</th>\n",
              "      <td>177.0</td>\n",
              "      <td>205.477622</td>\n",
              "      <td>2.0</td>\n",
              "      <td>2653.365143</td>\n",
              "      <td>1142.814545</td>\n",
              "      <td>6.409470e-102</td>\n",
              "    </tr>\n",
              "  </tbody>\n",
              "</table>\n",
              "</div>\n",
              "    <div class=\"colab-df-buttons\">\n",
              "\n",
              "  <div class=\"colab-df-container\">\n",
              "    <button class=\"colab-df-convert\" onclick=\"convertToInteractive('df-1429082e-ccbf-4cf5-9602-a7c0bc87fca7')\"\n",
              "            title=\"Convert this dataframe to an interactive table.\"\n",
              "            style=\"display:none;\">\n",
              "\n",
              "  <svg xmlns=\"http://www.w3.org/2000/svg\" height=\"24px\" viewBox=\"0 -960 960 960\">\n",
              "    <path d=\"M120-120v-720h720v720H120Zm60-500h600v-160H180v160Zm220 220h160v-160H400v160Zm0 220h160v-160H400v160ZM180-400h160v-160H180v160Zm440 0h160v-160H620v160ZM180-180h160v-160H180v160Zm440 0h160v-160H620v160Z\"/>\n",
              "  </svg>\n",
              "    </button>\n",
              "\n",
              "  <style>\n",
              "    .colab-df-container {\n",
              "      display:flex;\n",
              "      gap: 12px;\n",
              "    }\n",
              "\n",
              "    .colab-df-convert {\n",
              "      background-color: #E8F0FE;\n",
              "      border: none;\n",
              "      border-radius: 50%;\n",
              "      cursor: pointer;\n",
              "      display: none;\n",
              "      fill: #1967D2;\n",
              "      height: 32px;\n",
              "      padding: 0 0 0 0;\n",
              "      width: 32px;\n",
              "    }\n",
              "\n",
              "    .colab-df-convert:hover {\n",
              "      background-color: #E2EBFA;\n",
              "      box-shadow: 0px 1px 2px rgba(60, 64, 67, 0.3), 0px 1px 3px 1px rgba(60, 64, 67, 0.15);\n",
              "      fill: #174EA6;\n",
              "    }\n",
              "\n",
              "    .colab-df-buttons div {\n",
              "      margin-bottom: 4px;\n",
              "    }\n",
              "\n",
              "    [theme=dark] .colab-df-convert {\n",
              "      background-color: #3B4455;\n",
              "      fill: #D2E3FC;\n",
              "    }\n",
              "\n",
              "    [theme=dark] .colab-df-convert:hover {\n",
              "      background-color: #434B5C;\n",
              "      box-shadow: 0px 1px 3px 1px rgba(0, 0, 0, 0.15);\n",
              "      filter: drop-shadow(0px 1px 2px rgba(0, 0, 0, 0.3));\n",
              "      fill: #FFFFFF;\n",
              "    }\n",
              "  </style>\n",
              "\n",
              "    <script>\n",
              "      const buttonEl =\n",
              "        document.querySelector('#df-1429082e-ccbf-4cf5-9602-a7c0bc87fca7 button.colab-df-convert');\n",
              "      buttonEl.style.display =\n",
              "        google.colab.kernel.accessAllowed ? 'block' : 'none';\n",
              "\n",
              "      async function convertToInteractive(key) {\n",
              "        const element = document.querySelector('#df-1429082e-ccbf-4cf5-9602-a7c0bc87fca7');\n",
              "        const dataTable =\n",
              "          await google.colab.kernel.invokeFunction('convertToInteractive',\n",
              "                                                    [key], {});\n",
              "        if (!dataTable) return;\n",
              "\n",
              "        const docLinkHtml = 'Like what you see? Visit the ' +\n",
              "          '<a target=\"_blank\" href=https://colab.research.google.com/notebooks/data_table.ipynb>data table notebook</a>'\n",
              "          + ' to learn more about interactive tables.';\n",
              "        element.innerHTML = '';\n",
              "        dataTable['output_type'] = 'display_data';\n",
              "        await google.colab.output.renderOutput(dataTable, element);\n",
              "        const docLink = document.createElement('div');\n",
              "        docLink.innerHTML = docLinkHtml;\n",
              "        element.appendChild(docLink);\n",
              "      }\n",
              "    </script>\n",
              "  </div>\n",
              "\n",
              "\n",
              "<div id=\"df-4082ec82-7cf2-4dac-a15d-468bdfa18ee0\">\n",
              "  <button class=\"colab-df-quickchart\" onclick=\"quickchart('df-4082ec82-7cf2-4dac-a15d-468bdfa18ee0')\"\n",
              "            title=\"Suggest charts.\"\n",
              "            style=\"display:none;\">\n",
              "\n",
              "<svg xmlns=\"http://www.w3.org/2000/svg\" height=\"24px\"viewBox=\"0 0 24 24\"\n",
              "     width=\"24px\">\n",
              "    <g>\n",
              "        <path d=\"M19 3H5c-1.1 0-2 .9-2 2v14c0 1.1.9 2 2 2h14c1.1 0 2-.9 2-2V5c0-1.1-.9-2-2-2zM9 17H7v-7h2v7zm4 0h-2V7h2v10zm4 0h-2v-4h2v4z\"/>\n",
              "    </g>\n",
              "</svg>\n",
              "  </button>\n",
              "\n",
              "<style>\n",
              "  .colab-df-quickchart {\n",
              "      --bg-color: #E8F0FE;\n",
              "      --fill-color: #1967D2;\n",
              "      --hover-bg-color: #E2EBFA;\n",
              "      --hover-fill-color: #174EA6;\n",
              "      --disabled-fill-color: #AAA;\n",
              "      --disabled-bg-color: #DDD;\n",
              "  }\n",
              "\n",
              "  [theme=dark] .colab-df-quickchart {\n",
              "      --bg-color: #3B4455;\n",
              "      --fill-color: #D2E3FC;\n",
              "      --hover-bg-color: #434B5C;\n",
              "      --hover-fill-color: #FFFFFF;\n",
              "      --disabled-bg-color: #3B4455;\n",
              "      --disabled-fill-color: #666;\n",
              "  }\n",
              "\n",
              "  .colab-df-quickchart {\n",
              "    background-color: var(--bg-color);\n",
              "    border: none;\n",
              "    border-radius: 50%;\n",
              "    cursor: pointer;\n",
              "    display: none;\n",
              "    fill: var(--fill-color);\n",
              "    height: 32px;\n",
              "    padding: 0;\n",
              "    width: 32px;\n",
              "  }\n",
              "\n",
              "  .colab-df-quickchart:hover {\n",
              "    background-color: var(--hover-bg-color);\n",
              "    box-shadow: 0 1px 2px rgba(60, 64, 67, 0.3), 0 1px 3px 1px rgba(60, 64, 67, 0.15);\n",
              "    fill: var(--button-hover-fill-color);\n",
              "  }\n",
              "\n",
              "  .colab-df-quickchart-complete:disabled,\n",
              "  .colab-df-quickchart-complete:disabled:hover {\n",
              "    background-color: var(--disabled-bg-color);\n",
              "    fill: var(--disabled-fill-color);\n",
              "    box-shadow: none;\n",
              "  }\n",
              "\n",
              "  .colab-df-spinner {\n",
              "    border: 2px solid var(--fill-color);\n",
              "    border-color: transparent;\n",
              "    border-bottom-color: var(--fill-color);\n",
              "    animation:\n",
              "      spin 1s steps(1) infinite;\n",
              "  }\n",
              "\n",
              "  @keyframes spin {\n",
              "    0% {\n",
              "      border-color: transparent;\n",
              "      border-bottom-color: var(--fill-color);\n",
              "      border-left-color: var(--fill-color);\n",
              "    }\n",
              "    20% {\n",
              "      border-color: transparent;\n",
              "      border-left-color: var(--fill-color);\n",
              "      border-top-color: var(--fill-color);\n",
              "    }\n",
              "    30% {\n",
              "      border-color: transparent;\n",
              "      border-left-color: var(--fill-color);\n",
              "      border-top-color: var(--fill-color);\n",
              "      border-right-color: var(--fill-color);\n",
              "    }\n",
              "    40% {\n",
              "      border-color: transparent;\n",
              "      border-right-color: var(--fill-color);\n",
              "      border-top-color: var(--fill-color);\n",
              "    }\n",
              "    60% {\n",
              "      border-color: transparent;\n",
              "      border-right-color: var(--fill-color);\n",
              "    }\n",
              "    80% {\n",
              "      border-color: transparent;\n",
              "      border-right-color: var(--fill-color);\n",
              "      border-bottom-color: var(--fill-color);\n",
              "    }\n",
              "    90% {\n",
              "      border-color: transparent;\n",
              "      border-bottom-color: var(--fill-color);\n",
              "    }\n",
              "  }\n",
              "</style>\n",
              "\n",
              "  <script>\n",
              "    async function quickchart(key) {\n",
              "      const quickchartButtonEl =\n",
              "        document.querySelector('#' + key + ' button');\n",
              "      quickchartButtonEl.disabled = true;  // To prevent multiple clicks.\n",
              "      quickchartButtonEl.classList.add('colab-df-spinner');\n",
              "      try {\n",
              "        const charts = await google.colab.kernel.invokeFunction(\n",
              "            'suggestCharts', [key], {});\n",
              "      } catch (error) {\n",
              "        console.error('Error during call to suggestCharts:', error);\n",
              "      }\n",
              "      quickchartButtonEl.classList.remove('colab-df-spinner');\n",
              "      quickchartButtonEl.classList.add('colab-df-quickchart-complete');\n",
              "    }\n",
              "    (() => {\n",
              "      let quickchartButtonEl =\n",
              "        document.querySelector('#df-4082ec82-7cf2-4dac-a15d-468bdfa18ee0 button');\n",
              "      quickchartButtonEl.style.display =\n",
              "        google.colab.kernel.accessAllowed ? 'block' : 'none';\n",
              "    })();\n",
              "  </script>\n",
              "</div>\n",
              "    </div>\n",
              "  </div>\n"
            ]
          },
          "metadata": {},
          "execution_count": 95
        }
      ]
    },
    {
      "cell_type": "markdown",
      "id": "990e2ce3",
      "metadata": {
        "id": "990e2ce3"
      },
      "source": [
        "The model with group included has a very low p-value, meaning at least one group has a significant impact on the response variable."
      ]
    },
    {
      "cell_type": "markdown",
      "id": "8f599797",
      "metadata": {
        "id": "8f599797"
      },
      "source": [
        "\n",
        "#### 13. Create a 95% prediction interval for the average life expectancy of a country in the OECD with an average per person GDP (log scale) of 9.5. Print the result, and briefly interpret this interval (like we did in class). (Use the `get_prediction` function on the `OLS` object.)"
      ]
    },
    {
      "cell_type": "code",
      "execution_count": null,
      "id": "05e9eb87",
      "metadata": {
        "id": "05e9eb87",
        "colab": {
          "base_uri": "https://localhost:8080/",
          "height": 78
        },
        "outputId": "e8718587-0c6f-4cb1-9ab3-d849ebdd9b37"
      },
      "outputs": [
        {
          "output_type": "execute_result",
          "data": {
            "text/plain": [
              "        mean   mean_se  mean_ci_lower  mean_ci_upper  obs_ci_lower  \\\n",
              "0  79.818286  0.203924      79.415851       80.22072     77.654243   \n",
              "\n",
              "   obs_ci_upper  \n",
              "0     81.982328  "
            ],
            "text/html": [
              "\n",
              "  <div id=\"df-1e3c5390-9bb7-41e9-aff7-c76ee5727f8c\" class=\"colab-df-container\">\n",
              "    <div>\n",
              "<style scoped>\n",
              "    .dataframe tbody tr th:only-of-type {\n",
              "        vertical-align: middle;\n",
              "    }\n",
              "\n",
              "    .dataframe tbody tr th {\n",
              "        vertical-align: top;\n",
              "    }\n",
              "\n",
              "    .dataframe thead th {\n",
              "        text-align: right;\n",
              "    }\n",
              "</style>\n",
              "<table border=\"1\" class=\"dataframe\">\n",
              "  <thead>\n",
              "    <tr style=\"text-align: right;\">\n",
              "      <th></th>\n",
              "      <th>mean</th>\n",
              "      <th>mean_se</th>\n",
              "      <th>mean_ci_lower</th>\n",
              "      <th>mean_ci_upper</th>\n",
              "      <th>obs_ci_lower</th>\n",
              "      <th>obs_ci_upper</th>\n",
              "    </tr>\n",
              "  </thead>\n",
              "  <tbody>\n",
              "    <tr>\n",
              "      <th>0</th>\n",
              "      <td>79.818286</td>\n",
              "      <td>0.203924</td>\n",
              "      <td>79.415851</td>\n",
              "      <td>80.22072</td>\n",
              "      <td>77.654243</td>\n",
              "      <td>81.982328</td>\n",
              "    </tr>\n",
              "  </tbody>\n",
              "</table>\n",
              "</div>\n",
              "    <div class=\"colab-df-buttons\">\n",
              "\n",
              "  <div class=\"colab-df-container\">\n",
              "    <button class=\"colab-df-convert\" onclick=\"convertToInteractive('df-1e3c5390-9bb7-41e9-aff7-c76ee5727f8c')\"\n",
              "            title=\"Convert this dataframe to an interactive table.\"\n",
              "            style=\"display:none;\">\n",
              "\n",
              "  <svg xmlns=\"http://www.w3.org/2000/svg\" height=\"24px\" viewBox=\"0 -960 960 960\">\n",
              "    <path d=\"M120-120v-720h720v720H120Zm60-500h600v-160H180v160Zm220 220h160v-160H400v160Zm0 220h160v-160H400v160ZM180-400h160v-160H180v160Zm440 0h160v-160H620v160ZM180-180h160v-160H180v160Zm440 0h160v-160H620v160Z\"/>\n",
              "  </svg>\n",
              "    </button>\n",
              "\n",
              "  <style>\n",
              "    .colab-df-container {\n",
              "      display:flex;\n",
              "      gap: 12px;\n",
              "    }\n",
              "\n",
              "    .colab-df-convert {\n",
              "      background-color: #E8F0FE;\n",
              "      border: none;\n",
              "      border-radius: 50%;\n",
              "      cursor: pointer;\n",
              "      display: none;\n",
              "      fill: #1967D2;\n",
              "      height: 32px;\n",
              "      padding: 0 0 0 0;\n",
              "      width: 32px;\n",
              "    }\n",
              "\n",
              "    .colab-df-convert:hover {\n",
              "      background-color: #E2EBFA;\n",
              "      box-shadow: 0px 1px 2px rgba(60, 64, 67, 0.3), 0px 1px 3px 1px rgba(60, 64, 67, 0.15);\n",
              "      fill: #174EA6;\n",
              "    }\n",
              "\n",
              "    .colab-df-buttons div {\n",
              "      margin-bottom: 4px;\n",
              "    }\n",
              "\n",
              "    [theme=dark] .colab-df-convert {\n",
              "      background-color: #3B4455;\n",
              "      fill: #D2E3FC;\n",
              "    }\n",
              "\n",
              "    [theme=dark] .colab-df-convert:hover {\n",
              "      background-color: #434B5C;\n",
              "      box-shadow: 0px 1px 3px 1px rgba(0, 0, 0, 0.15);\n",
              "      filter: drop-shadow(0px 1px 2px rgba(0, 0, 0, 0.3));\n",
              "      fill: #FFFFFF;\n",
              "    }\n",
              "  </style>\n",
              "\n",
              "    <script>\n",
              "      const buttonEl =\n",
              "        document.querySelector('#df-1e3c5390-9bb7-41e9-aff7-c76ee5727f8c button.colab-df-convert');\n",
              "      buttonEl.style.display =\n",
              "        google.colab.kernel.accessAllowed ? 'block' : 'none';\n",
              "\n",
              "      async function convertToInteractive(key) {\n",
              "        const element = document.querySelector('#df-1e3c5390-9bb7-41e9-aff7-c76ee5727f8c');\n",
              "        const dataTable =\n",
              "          await google.colab.kernel.invokeFunction('convertToInteractive',\n",
              "                                                    [key], {});\n",
              "        if (!dataTable) return;\n",
              "\n",
              "        const docLinkHtml = 'Like what you see? Visit the ' +\n",
              "          '<a target=\"_blank\" href=https://colab.research.google.com/notebooks/data_table.ipynb>data table notebook</a>'\n",
              "          + ' to learn more about interactive tables.';\n",
              "        element.innerHTML = '';\n",
              "        dataTable['output_type'] = 'display_data';\n",
              "        await google.colab.output.renderOutput(dataTable, element);\n",
              "        const docLink = document.createElement('div');\n",
              "        docLink.innerHTML = docLinkHtml;\n",
              "        element.appendChild(docLink);\n",
              "      }\n",
              "    </script>\n",
              "  </div>\n",
              "\n",
              "    </div>\n",
              "  </div>\n"
            ]
          },
          "metadata": {},
          "execution_count": 99
        }
      ],
      "source": [
        "# 1 for something?, 9.5 for our PPGDP value, 0 for not-africa group, and 1 for yes OECD\n",
        "pred = res_full.get_prediction([1, 9.5, 0, 1])\n",
        "pred.summary_frame(alpha = 0.05)"
      ]
    },
    {
      "cell_type": "markdown",
      "id": "ab54429c",
      "metadata": {
        "id": "ab54429c"
      },
      "source": [
        "We are 95% confident that a new country in OECD, with an average per person GDP of 9.5 (log scale) will have an average life expectancy between 77.65 and 81.98 years."
      ]
    },
    {
      "cell_type": "markdown",
      "id": "ca3bf366",
      "metadata": {
        "id": "ca3bf366"
      },
      "source": [
        "#### 14. Plot the fitted model on the scatterplot with the two continuous variables on the axes, colored by the categorical variable. Hint: you should have 3 different lines on your plot, and you will *not* need to have different line types or point shapes (you *will* need to have different colors).\n"
      ]
    },
    {
      "cell_type": "code",
      "execution_count": null,
      "id": "55539205",
      "metadata": {
        "id": "55539205",
        "colab": {
          "base_uri": "https://localhost:8080/",
          "height": 387
        },
        "outputId": "baa2a5f4-9be9-4ba0-b3d2-ee80620101e0"
      },
      "outputs": [
        {
          "output_type": "display_data",
          "data": {
            "text/plain": [
              "<Figure size 400x400 with 1 Axes>"
            ],
            "image/png": "[encoded data removed]"
          },
          "metadata": {}
        }
      ],
      "source": [
        "plt.figure(figsize = (4, 4))\n",
        "sns.scatterplot(data = life,\n",
        "                x = 'PPGDP',\n",
        "                y = 'LifeExp',\n",
        "                hue = 'Group',\n",
        "                )\n",
        "sns.lineplot(x = life['PPGDP'],\n",
        "             y = res_full.fittedvalues,\n",
        "             hue = life['Group'],\n",
        "             legend = False)\n",
        "plt.xlabel('PPGDP')\n",
        "plt.ylabel('LifeExp')\n",
        "plt.legend(loc = 'upper right', bbox_to_anchor = (1.45, 1.02))\n",
        "plt.show()"
      ]
    },
    {
      "cell_type": "markdown",
      "id": "9cc4395d",
      "metadata": {
        "id": "9cc4395d"
      },
      "source": [
        "#### 15. Fit a multiple linear regression model to the data **using the dummy variables you created**, and include an interaction term between PPGDP and Group. *USE \"other\" AS THE BASELINE CATEGORY FOR GROUP*. Print a summary of the results."
      ]
    },
    {
      "cell_type": "code",
      "execution_count": null,
      "id": "5e8c74da",
      "metadata": {
        "attributes": {
          "classes": [],
          "fig.align": "'center'",
          "id": ""
        },
        "id": "5e8c74da",
        "colab": {
          "base_uri": "https://localhost:8080/",
          "height": 514
        },
        "outputId": "7d90c6e5-5a79-42e4-cba6-97ff6adda8f4"
      },
      "outputs": [
        {
          "output_type": "execute_result",
          "data": {
            "text/plain": [
              "<class 'statsmodels.iolib.summary.Summary'>\n",
              "\"\"\"\n",
              "                            OLS Regression Results                            \n",
              "==============================================================================\n",
              "Dep. Variable:                LifeExp   R-squared:                       0.986\n",
              "Model:                            OLS   Adj. R-squared:                  0.986\n",
              "Method:                 Least Squares   F-statistic:                     2551.\n",
              "Date:                Fri, 03 Nov 2023   Prob (F-statistic):          1.98e-161\n",
              "Time:                        04:26:30   Log-Likelihood:                -263.63\n",
              "No. Observations:                 181   AIC:                             539.3\n",
              "Df Residuals:                     175   BIC:                             558.4\n",
              "Df Model:                           5                                         \n",
              "Covariance Type:            nonrobust                                         \n",
              "======================================================================================\n",
              "                         coef    std err          t      P>|t|      [0.025      0.975]\n",
              "--------------------------------------------------------------------------------------\n",
              "const                 50.4240      0.713     70.734      0.000      49.017      51.831\n",
              "PPGDP                  2.9388      0.082     35.896      0.000       2.777       3.100\n",
              "Group_africa         -11.8951      1.475     -8.063      0.000     -14.807      -8.983\n",
              "Group_oecd            11.2920      3.213      3.514      0.001       4.950      17.634\n",
              "PPGDP_Group_africa    -0.0413      0.212     -0.194      0.846      -0.461       0.378\n",
              "PPGDP_Group_oecd      -0.9527      0.313     -3.046      0.003      -1.570      -0.335\n",
              "==============================================================================\n",
              "Omnibus:                        0.578   Durbin-Watson:                   2.155\n",
              "Prob(Omnibus):                  0.749   Jarque-Bera (JB):                0.381\n",
              "Skew:                           0.105   Prob(JB):                        0.827\n",
              "Kurtosis:                       3.078   Cond. No.                         374.\n",
              "==============================================================================\n",
              "\n",
              "Notes:\n",
              "[1] Standard Errors assume that the covariance matrix of the errors is correctly specified.\n",
              "\"\"\""
            ],
            "text/html": [
              "<table class=\"simpletable\">\n",
              "<caption>OLS Regression Results</caption>\n",
              "<tr>\n",
              "  <th>Dep. Variable:</th>         <td>LifeExp</td>     <th>  R-squared:         </th> <td>   0.986</td> \n",
              "</tr>\n",
              "<tr>\n",
              "  <th>Model:</th>                   <td>OLS</td>       <th>  Adj. R-squared:    </th> <td>   0.986</td> \n",
              "</tr>\n",
              "<tr>\n",
              "  <th>Method:</th>             <td>Least Squares</td>  <th>  F-statistic:       </th> <td>   2551.</td> \n",
              "</tr>\n",
              "<tr>\n",
              "  <th>Date:</th>             <td>Fri, 03 Nov 2023</td> <th>  Prob (F-statistic):</th> <td>1.98e-161</td>\n",
              "</tr>\n",
              "<tr>\n",
              "  <th>Time:</th>                 <td>04:26:30</td>     <th>  Log-Likelihood:    </th> <td> -263.63</td> \n",
              "</tr>\n",
              "<tr>\n",
              "  <th>No. Observations:</th>      <td>   181</td>      <th>  AIC:               </th> <td>   539.3</td> \n",
              "</tr>\n",
              "<tr>\n",
              "  <th>Df Residuals:</th>          <td>   175</td>      <th>  BIC:               </th> <td>   558.4</td> \n",
              "</tr>\n",
              "<tr>\n",
              "  <th>Df Model:</th>              <td>     5</td>      <th>                     </th>     <td> </td>    \n",
              "</tr>\n",
              "<tr>\n",
              "  <th>Covariance Type:</th>      <td>nonrobust</td>    <th>                     </th>     <td> </td>    \n",
              "</tr>\n",
              "</table>\n",
              "<table class=\"simpletable\">\n",
              "<tr>\n",
              "           <td></td>             <th>coef</th>     <th>std err</th>      <th>t</th>      <th>P>|t|</th>  <th>[0.025</th>    <th>0.975]</th>  \n",
              "</tr>\n",
              "<tr>\n",
              "  <th>const</th>              <td>   50.4240</td> <td>    0.713</td> <td>   70.734</td> <td> 0.000</td> <td>   49.017</td> <td>   51.831</td>\n",
              "</tr>\n",
              "<tr>\n",
              "  <th>PPGDP</th>              <td>    2.9388</td> <td>    0.082</td> <td>   35.896</td> <td> 0.000</td> <td>    2.777</td> <td>    3.100</td>\n",
              "</tr>\n",
              "<tr>\n",
              "  <th>Group_africa</th>       <td>  -11.8951</td> <td>    1.475</td> <td>   -8.063</td> <td> 0.000</td> <td>  -14.807</td> <td>   -8.983</td>\n",
              "</tr>\n",
              "<tr>\n",
              "  <th>Group_oecd</th>         <td>   11.2920</td> <td>    3.213</td> <td>    3.514</td> <td> 0.001</td> <td>    4.950</td> <td>   17.634</td>\n",
              "</tr>\n",
              "<tr>\n",
              "  <th>PPGDP_Group_africa</th> <td>   -0.0413</td> <td>    0.212</td> <td>   -0.194</td> <td> 0.846</td> <td>   -0.461</td> <td>    0.378</td>\n",
              "</tr>\n",
              "<tr>\n",
              "  <th>PPGDP_Group_oecd</th>   <td>   -0.9527</td> <td>    0.313</td> <td>   -3.046</td> <td> 0.003</td> <td>   -1.570</td> <td>   -0.335</td>\n",
              "</tr>\n",
              "</table>\n",
              "<table class=\"simpletable\">\n",
              "<tr>\n",
              "  <th>Omnibus:</th>       <td> 0.578</td> <th>  Durbin-Watson:     </th> <td>   2.155</td>\n",
              "</tr>\n",
              "<tr>\n",
              "  <th>Prob(Omnibus):</th> <td> 0.749</td> <th>  Jarque-Bera (JB):  </th> <td>   0.381</td>\n",
              "</tr>\n",
              "<tr>\n",
              "  <th>Skew:</th>          <td> 0.105</td> <th>  Prob(JB):          </th> <td>   0.827</td>\n",
              "</tr>\n",
              "<tr>\n",
              "  <th>Kurtosis:</th>      <td> 3.078</td> <th>  Cond. No.          </th> <td>    374.</td>\n",
              "</tr>\n",
              "</table><br/><br/>Notes:<br/>[1] Standard Errors assume that the covariance matrix of the errors is correctly specified."
            ],
            "text/latex": "\\begin{center}\n\\begin{tabular}{lclc}\n\\toprule\n\\textbf{Dep. Variable:}       &     LifeExp      & \\textbf{  R-squared:         } &     0.986   \\\\\n\\textbf{Model:}               &       OLS        & \\textbf{  Adj. R-squared:    } &     0.986   \\\\\n\\textbf{Method:}              &  Least Squares   & \\textbf{  F-statistic:       } &     2551.   \\\\\n\\textbf{Date:}                & Fri, 03 Nov 2023 & \\textbf{  Prob (F-statistic):} & 1.98e-161   \\\\\n\\textbf{Time:}                &     04:26:30     & \\textbf{  Log-Likelihood:    } &   -263.63   \\\\\n\\textbf{No. Observations:}    &         181      & \\textbf{  AIC:               } &     539.3   \\\\\n\\textbf{Df Residuals:}        &         175      & \\textbf{  BIC:               } &     558.4   \\\\\n\\textbf{Df Model:}            &           5      & \\textbf{                     } &             \\\\\n\\textbf{Covariance Type:}     &    nonrobust     & \\textbf{                     } &             \\\\\n\\bottomrule\n\\end{tabular}\n\\begin{tabular}{lcccccc}\n                              & \\textbf{coef} & \\textbf{std err} & \\textbf{t} & \\textbf{P$> |$t$|$} & \\textbf{[0.025} & \\textbf{0.975]}  \\\\\n\\midrule\n\\textbf{const}                &      50.4240  &        0.713     &    70.734  &         0.000        &       49.017    &       51.831     \\\\\n\\textbf{PPGDP}                &       2.9388  &        0.082     &    35.896  &         0.000        &        2.777    &        3.100     \\\\\n\\textbf{Group\\_africa}        &     -11.8951  &        1.475     &    -8.063  &         0.000        &      -14.807    &       -8.983     \\\\\n\\textbf{Group\\_oecd}          &      11.2920  &        3.213     &     3.514  &         0.001        &        4.950    &       17.634     \\\\\n\\textbf{PPGDP\\_Group\\_africa} &      -0.0413  &        0.212     &    -0.194  &         0.846        &       -0.461    &        0.378     \\\\\n\\textbf{PPGDP\\_Group\\_oecd}   &      -0.9527  &        0.313     &    -3.046  &         0.003        &       -1.570    &       -0.335     \\\\\n\\bottomrule\n\\end{tabular}\n\\begin{tabular}{lclc}\n\\textbf{Omnibus:}       &  0.578 & \\textbf{  Durbin-Watson:     } &    2.155  \\\\\n\\textbf{Prob(Omnibus):} &  0.749 & \\textbf{  Jarque-Bera (JB):  } &    0.381  \\\\\n\\textbf{Skew:}          &  0.105 & \\textbf{  Prob(JB):          } &    0.827  \\\\\n\\textbf{Kurtosis:}      &  3.078 & \\textbf{  Cond. No.          } &     374.  \\\\\n\\bottomrule\n\\end{tabular}\n%\\caption{OLS Regression Results}\n\\end{center}\n\nNotes: \\newline\n [1] Standard Errors assume that the covariance matrix of the errors is correctly specified."
          },
          "metadata": {},
          "execution_count": 103
        }
      ],
      "source": [
        "LifeExp_dummy['PPGDP_Group_africa'] = LifeExp_dummy['PPGDP'] * LifeExp_dummy['Group_africa']\n",
        "LifeExp_dummy['PPGDP_Group_oecd'] = LifeExp_dummy['PPGDP'] * LifeExp_dummy['Group_oecd']\n",
        "\n",
        "y = LifeExp_dummy['LifeExp']\n",
        "X_inter = sm.add_constant(LifeExp_dummy[['PPGDP', 'Group_africa', 'Group_oecd', 'PPGDP_Group_africa', 'PPGDP_Group_oecd']])\n",
        "mod_inter = sm.OLS(y, X_inter)\n",
        "res_inter = mod_inter.fit()\n",
        "res_inter.summary()"
      ]
    },
    {
      "cell_type": "markdown",
      "id": "7a399e25",
      "metadata": {
        "id": "7a399e25"
      },
      "source": [
        "#### 16. Write out the fitted model (using coefficients values from above) for a model with PPGDP, Group, and an interaction between PPGDG and Group. Remember, you will need to use dummy variables for Group. **USE \"other\" AS THE BASELINE CATEGORY**. Use variable names that are descriptive (not $y$, $x_1$, etc.).\n"
      ]
    },
    {
      "cell_type": "markdown",
      "id": "0d3c8a40",
      "metadata": {
        "id": "0d3c8a40"
      },
      "source": [
        "$\n",
        "LifeExp_i = 2.9388*PPGDP - 11.8951*I(Group=africa) + 11.2920*I(Group=oecd) - 0.0413*I(PPGDPGroupafrica) - 0.9527*I(PPGDPGroupoecd)\n",
        "$"
      ]
    },
    {
      "cell_type": "markdown",
      "id": "3df377d0",
      "metadata": {
        "id": "3df377d0"
      },
      "source": [
        "#### 17. Use the `anova_lm` function from statsmodels to test if the overall interaction between PPGDP and Group is significant. Print the result. What do you conclude?"
      ]
    },
    {
      "cell_type": "code",
      "execution_count": null,
      "id": "a9a4a6d2",
      "metadata": {
        "id": "a9a4a6d2",
        "colab": {
          "base_uri": "https://localhost:8080/",
          "height": 109
        },
        "outputId": "af249f46-0704-4c33-d0e4-32c5ec4d8bb6"
      },
      "outputs": [
        {
          "output_type": "execute_result",
          "data": {
            "text/plain": [
              "   df_resid         ssr  df_diff    ss_diff         F    Pr(>F)\n",
              "0     177.0  205.477622      0.0        NaN       NaN       NaN\n",
              "1     175.0  195.120227      2.0  10.357395  4.644685  0.010828"
            ],
            "text/html": [
              "\n",
              "  <div id=\"df-bfa52bfb-6d5e-4d62-95a0-d51ee83f741c\" class=\"colab-df-container\">\n",
              "    <div>\n",
              "<style scoped>\n",
              "    .dataframe tbody tr th:only-of-type {\n",
              "        vertical-align: middle;\n",
              "    }\n",
              "\n",
              "    .dataframe tbody tr th {\n",
              "        vertical-align: top;\n",
              "    }\n",
              "\n",
              "    .dataframe thead th {\n",
              "        text-align: right;\n",
              "    }\n",
              "</style>\n",
              "<table border=\"1\" class=\"dataframe\">\n",
              "  <thead>\n",
              "    <tr style=\"text-align: right;\">\n",
              "      <th></th>\n",
              "      <th>df_resid</th>\n",
              "      <th>ssr</th>\n",
              "      <th>df_diff</th>\n",
              "      <th>ss_diff</th>\n",
              "      <th>F</th>\n",
              "      <th>Pr(&gt;F)</th>\n",
              "    </tr>\n",
              "  </thead>\n",
              "  <tbody>\n",
              "    <tr>\n",
              "      <th>0</th>\n",
              "      <td>177.0</td>\n",
              "      <td>205.477622</td>\n",
              "      <td>0.0</td>\n",
              "      <td>NaN</td>\n",
              "      <td>NaN</td>\n",
              "      <td>NaN</td>\n",
              "    </tr>\n",
              "    <tr>\n",
              "      <th>1</th>\n",
              "      <td>175.0</td>\n",
              "      <td>195.120227</td>\n",
              "      <td>2.0</td>\n",
              "      <td>10.357395</td>\n",
              "      <td>4.644685</td>\n",
              "      <td>0.010828</td>\n",
              "    </tr>\n",
              "  </tbody>\n",
              "</table>\n",
              "</div>\n",
              "    <div class=\"colab-df-buttons\">\n",
              "\n",
              "  <div class=\"colab-df-container\">\n",
              "    <button class=\"colab-df-convert\" onclick=\"convertToInteractive('df-bfa52bfb-6d5e-4d62-95a0-d51ee83f741c')\"\n",
              "            title=\"Convert this dataframe to an interactive table.\"\n",
              "            style=\"display:none;\">\n",
              "\n",
              "  <svg xmlns=\"http://www.w3.org/2000/svg\" height=\"24px\" viewBox=\"0 -960 960 960\">\n",
              "    <path d=\"M120-120v-720h720v720H120Zm60-500h600v-160H180v160Zm220 220h160v-160H400v160Zm0 220h160v-160H400v160ZM180-400h160v-160H180v160Zm440 0h160v-160H620v160ZM180-180h160v-160H180v160Zm440 0h160v-160H620v160Z\"/>\n",
              "  </svg>\n",
              "    </button>\n",
              "\n",
              "  <style>\n",
              "    .colab-df-container {\n",
              "      display:flex;\n",
              "      gap: 12px;\n",
              "    }\n",
              "\n",
              "    .colab-df-convert {\n",
              "      background-color: #E8F0FE;\n",
              "      border: none;\n",
              "      border-radius: 50%;\n",
              "      cursor: pointer;\n",
              "      display: none;\n",
              "      fill: #1967D2;\n",
              "      height: 32px;\n",
              "      padding: 0 0 0 0;\n",
              "      width: 32px;\n",
              "    }\n",
              "\n",
              "    .colab-df-convert:hover {\n",
              "      background-color: #E2EBFA;\n",
              "      box-shadow: 0px 1px 2px rgba(60, 64, 67, 0.3), 0px 1px 3px 1px rgba(60, 64, 67, 0.15);\n",
              "      fill: #174EA6;\n",
              "    }\n",
              "\n",
              "    .colab-df-buttons div {\n",
              "      margin-bottom: 4px;\n",
              "    }\n",
              "\n",
              "    [theme=dark] .colab-df-convert {\n",
              "      background-color: #3B4455;\n",
              "      fill: #D2E3FC;\n",
              "    }\n",
              "\n",
              "    [theme=dark] .colab-df-convert:hover {\n",
              "      background-color: #434B5C;\n",
              "      box-shadow: 0px 1px 3px 1px rgba(0, 0, 0, 0.15);\n",
              "      filter: drop-shadow(0px 1px 2px rgba(0, 0, 0, 0.3));\n",
              "      fill: #FFFFFF;\n",
              "    }\n",
              "  </style>\n",
              "\n",
              "    <script>\n",
              "      const buttonEl =\n",
              "        document.querySelector('#df-bfa52bfb-6d5e-4d62-95a0-d51ee83f741c button.colab-df-convert');\n",
              "      buttonEl.style.display =\n",
              "        google.colab.kernel.accessAllowed ? 'block' : 'none';\n",
              "\n",
              "      async function convertToInteractive(key) {\n",
              "        const element = document.querySelector('#df-bfa52bfb-6d5e-4d62-95a0-d51ee83f741c');\n",
              "        const dataTable =\n",
              "          await google.colab.kernel.invokeFunction('convertToInteractive',\n",
              "                                                    [key], {});\n",
              "        if (!dataTable) return;\n",
              "\n",
              "        const docLinkHtml = 'Like what you see? Visit the ' +\n",
              "          '<a target=\"_blank\" href=https://colab.research.google.com/notebooks/data_table.ipynb>data table notebook</a>'\n",
              "          + ' to learn more about interactive tables.';\n",
              "        element.innerHTML = '';\n",
              "        dataTable['output_type'] = 'display_data';\n",
              "        await google.colab.output.renderOutput(dataTable, element);\n",
              "        const docLink = document.createElement('div');\n",
              "        docLink.innerHTML = docLinkHtml;\n",
              "        element.appendChild(docLink);\n",
              "      }\n",
              "    </script>\n",
              "  </div>\n",
              "\n",
              "\n",
              "<div id=\"df-1b02b4b6-3d8f-4421-833a-a35b37f696d1\">\n",
              "  <button class=\"colab-df-quickchart\" onclick=\"quickchart('df-1b02b4b6-3d8f-4421-833a-a35b37f696d1')\"\n",
              "            title=\"Suggest charts.\"\n",
              "            style=\"display:none;\">\n",
              "\n",
              "<svg xmlns=\"http://www.w3.org/2000/svg\" height=\"24px\"viewBox=\"0 0 24 24\"\n",
              "     width=\"24px\">\n",
              "    <g>\n",
              "        <path d=\"M19 3H5c-1.1 0-2 .9-2 2v14c0 1.1.9 2 2 2h14c1.1 0 2-.9 2-2V5c0-1.1-.9-2-2-2zM9 17H7v-7h2v7zm4 0h-2V7h2v10zm4 0h-2v-4h2v4z\"/>\n",
              "    </g>\n",
              "</svg>\n",
              "  </button>\n",
              "\n",
              "<style>\n",
              "  .colab-df-quickchart {\n",
              "      --bg-color: #E8F0FE;\n",
              "      --fill-color: #1967D2;\n",
              "      --hover-bg-color: #E2EBFA;\n",
              "      --hover-fill-color: #174EA6;\n",
              "      --disabled-fill-color: #AAA;\n",
              "      --disabled-bg-color: #DDD;\n",
              "  }\n",
              "\n",
              "  [theme=dark] .colab-df-quickchart {\n",
              "      --bg-color: #3B4455;\n",
              "      --fill-color: #D2E3FC;\n",
              "      --hover-bg-color: #434B5C;\n",
              "      --hover-fill-color: #FFFFFF;\n",
              "      --disabled-bg-color: #3B4455;\n",
              "      --disabled-fill-color: #666;\n",
              "  }\n",
              "\n",
              "  .colab-df-quickchart {\n",
              "    background-color: var(--bg-color);\n",
              "    border: none;\n",
              "    border-radius: 50%;\n",
              "    cursor: pointer;\n",
              "    display: none;\n",
              "    fill: var(--fill-color);\n",
              "    height: 32px;\n",
              "    padding: 0;\n",
              "    width: 32px;\n",
              "  }\n",
              "\n",
              "  .colab-df-quickchart:hover {\n",
              "    background-color: var(--hover-bg-color);\n",
              "    box-shadow: 0 1px 2px rgba(60, 64, 67, 0.3), 0 1px 3px 1px rgba(60, 64, 67, 0.15);\n",
              "    fill: var(--button-hover-fill-color);\n",
              "  }\n",
              "\n",
              "  .colab-df-quickchart-complete:disabled,\n",
              "  .colab-df-quickchart-complete:disabled:hover {\n",
              "    background-color: var(--disabled-bg-color);\n",
              "    fill: var(--disabled-fill-color);\n",
              "    box-shadow: none;\n",
              "  }\n",
              "\n",
              "  .colab-df-spinner {\n",
              "    border: 2px solid var(--fill-color);\n",
              "    border-color: transparent;\n",
              "    border-bottom-color: var(--fill-color);\n",
              "    animation:\n",
              "      spin 1s steps(1) infinite;\n",
              "  }\n",
              "\n",
              "  @keyframes spin {\n",
              "    0% {\n",
              "      border-color: transparent;\n",
              "      border-bottom-color: var(--fill-color);\n",
              "      border-left-color: var(--fill-color);\n",
              "    }\n",
              "    20% {\n",
              "      border-color: transparent;\n",
              "      border-left-color: var(--fill-color);\n",
              "      border-top-color: var(--fill-color);\n",
              "    }\n",
              "    30% {\n",
              "      border-color: transparent;\n",
              "      border-left-color: var(--fill-color);\n",
              "      border-top-color: var(--fill-color);\n",
              "      border-right-color: var(--fill-color);\n",
              "    }\n",
              "    40% {\n",
              "      border-color: transparent;\n",
              "      border-right-color: var(--fill-color);\n",
              "      border-top-color: var(--fill-color);\n",
              "    }\n",
              "    60% {\n",
              "      border-color: transparent;\n",
              "      border-right-color: var(--fill-color);\n",
              "    }\n",
              "    80% {\n",
              "      border-color: transparent;\n",
              "      border-right-color: var(--fill-color);\n",
              "      border-bottom-color: var(--fill-color);\n",
              "    }\n",
              "    90% {\n",
              "      border-color: transparent;\n",
              "      border-bottom-color: var(--fill-color);\n",
              "    }\n",
              "  }\n",
              "</style>\n",
              "\n",
              "  <script>\n",
              "    async function quickchart(key) {\n",
              "      const quickchartButtonEl =\n",
              "        document.querySelector('#' + key + ' button');\n",
              "      quickchartButtonEl.disabled = true;  // To prevent multiple clicks.\n",
              "      quickchartButtonEl.classList.add('colab-df-spinner');\n",
              "      try {\n",
              "        const charts = await google.colab.kernel.invokeFunction(\n",
              "            'suggestCharts', [key], {});\n",
              "      } catch (error) {\n",
              "        console.error('Error during call to suggestCharts:', error);\n",
              "      }\n",
              "      quickchartButtonEl.classList.remove('colab-df-spinner');\n",
              "      quickchartButtonEl.classList.add('colab-df-quickchart-complete');\n",
              "    }\n",
              "    (() => {\n",
              "      let quickchartButtonEl =\n",
              "        document.querySelector('#df-1b02b4b6-3d8f-4421-833a-a35b37f696d1 button');\n",
              "      quickchartButtonEl.style.display =\n",
              "        google.colab.kernel.accessAllowed ? 'block' : 'none';\n",
              "    })();\n",
              "  </script>\n",
              "</div>\n",
              "    </div>\n",
              "  </div>\n"
            ]
          },
          "metadata": {},
          "execution_count": 105
        }
      ],
      "source": [
        "anova_lm(res_full, res_inter)"
      ]
    },
    {
      "cell_type": "markdown",
      "id": "1dfb6a24",
      "metadata": {
        "id": "1dfb6a24"
      },
      "source": [
        "The p-value is 0.01, meaning the interaction is indeed significant."
      ]
    },
    {
      "cell_type": "markdown",
      "id": "c7851a45",
      "metadata": {
        "id": "c7851a45"
      },
      "source": [
        "#### 18. Plot the fitted model (with the interaction included) on the scatterplot with the two continuous variables on the axes, colored by the categorical variable. Hint: you should have 3 different lines on your plot, and you will *not* need to have different line types or point shapes (you *will* need to have different colors)."
      ]
    },
    {
      "cell_type": "code",
      "execution_count": null,
      "id": "e47a6f0c",
      "metadata": {
        "attributes": {
          "classes": [],
          "fig.align": "'center'",
          "id": ""
        },
        "id": "e47a6f0c",
        "colab": {
          "base_uri": "https://localhost:8080/",
          "height": 387
        },
        "outputId": "b12dfc07-38d2-4c0f-eeb1-c9377ecd48ce"
      },
      "outputs": [
        {
          "output_type": "display_data",
          "data": {
            "text/plain": [
              "<Figure size 400x400 with 1 Axes>"
            ],
            "image/png": "[encoded data removed]"
          },
          "metadata": {}
        }
      ],
      "source": [
        "plt.figure(figsize = (4, 4))\n",
        "sns.scatterplot(data = life,\n",
        "                x = 'PPGDP',\n",
        "                y = 'LifeExp',\n",
        "                hue = 'Group',\n",
        "                )\n",
        "sns.lineplot(x = life['PPGDP'],\n",
        "             y = res_inter.fittedvalues,\n",
        "             hue = life['Group'],\n",
        "             legend = False)\n",
        "plt.xlabel('PPGDP')\n",
        "plt.ylabel('LifeExp')\n",
        "plt.legend(loc = 'upper right', bbox_to_anchor = (1.45, 1.02))\n",
        "plt.show()"
      ]
    },
    {
      "cell_type": "markdown",
      "id": "3d12b201",
      "metadata": {
        "id": "3d12b201"
      },
      "source": [
        "#### 19. How did the fitted lines change when you included an interaction term compared with when you did not include an interaction term?\n"
      ]
    },
    {
      "cell_type": "markdown",
      "id": "d6346fb0",
      "metadata": {
        "id": "d6346fb0"
      },
      "source": [
        "The oecd line changed its slope."
      ]
    },
    {
      "cell_type": "markdown",
      "id": "1a11f4e4",
      "metadata": {
        "id": "1a11f4e4"
      },
      "source": [
        "#### 20. What is the effect of PPGDP on LifeExp for countries in a country other than those in the OECD or Africa (i.e. in the \"other\" category)? You should report a number in a complete sentence (as done in class toward the end of the notes). Since this is a continuous-categorical interaction, and since we are focusing on the effect of the continuous variable, you should use the \"one unit increase\" terminology in your response."
      ]
    },
    {
      "cell_type": "markdown",
      "id": "091eb07b",
      "metadata": {
        "id": "091eb07b"
      },
      "source": [
        "For countries in the 'other' category, a one unit increase in PPGSP will equate to an average increase of 2.9388 in life expectancy."
      ]
    },
    {
      "cell_type": "markdown",
      "id": "585ef9b9",
      "metadata": {
        "id": "585ef9b9"
      },
      "source": [
        "#### 21. What is the effect of PPGDP on LifeExp for countries in the OECD? You should report a number in a complete sentence (as done in class toward the end of the notes). Since this is a continuous-categorical interaction, and since we are focusing on the effect of the continuous variable, you should use the \"one unit increase\" terminology in your response."
      ]
    },
    {
      "cell_type": "markdown",
      "id": "56c4c3d0",
      "metadata": {
        "id": "56c4c3d0"
      },
      "source": [
        "For countries in the OECD, a one unit increase in PPGDP will equate to an average increase of 1.9861 years of life expectancy.\n",
        "\n",
        "\n",
        "calculation:\n",
        "2.9388 + (-0.9527)"
      ]
    },
    {
      "cell_type": "markdown",
      "id": "43a9e61f",
      "metadata": {
        "id": "43a9e61f"
      },
      "source": [
        "#### 22. What is the effect of PPGDP on LifeExp for countries in Africa? You should report a number in a complete sentence (as done in class toward the end of the notes). Since this is a continuous-categorical interaction, and since we are focusing on the effect of the continuous variable, you should use the \"one unit increase\" terminology in your response."
      ]
    },
    {
      "cell_type": "markdown",
      "id": "0bfc1c99",
      "metadata": {
        "id": "0bfc1c99"
      },
      "source": [
        "For countries in Africa, a one unit increase in PPGDP will equate to an average increase of 2.8375 years of life expectancy.\n",
        "\n",
        "\n",
        "calculation:\n",
        "2.9388 + (-0.0413)"
      ]
    },
    {
      "cell_type": "markdown",
      "id": "f3d234fd",
      "metadata": {
        "id": "f3d234fd"
      },
      "source": [
        "#### 23. What is the effect of belonging to the OECD on LifeExp for countries with a PPGDP of 9? You should report a number in a complete sentence (as done in class toward the end of the notes)."
      ]
    },
    {
      "cell_type": "markdown",
      "id": "3492bd71",
      "metadata": {
        "id": "3492bd71"
      },
      "source": [
        "For countries with a per person GDP of 9 (log scale), belonging to the OECD results in an average decrease in life expectancy of 2.72 years\n",
        "\n",
        "calculation:\n",
        "11.292 + (9 * (-0.9527))"
      ]
    },
    {
      "cell_type": "markdown",
      "id": "2d51eb79",
      "metadata": {
        "id": "2d51eb79"
      },
      "source": [
        "#### 24. What is the effect of belonging to the OECD on LifeExp for countries with a PPGDP of 11? You should report a number in a complete sentence (as done in class toward the end of the notes)."
      ]
    },
    {
      "cell_type": "markdown",
      "id": "0f2b9678",
      "metadata": {
        "id": "0f2b9678"
      },
      "source": [
        "For countries with a per person GDP of 11 (log scale), belonging to the OECD results in an average decrease in life expectancy of 0.81 years\n",
        "\n",
        "calculation:\n",
        "11.292 + (11 * (-0.9527))"
      ]
    },
    {
      "cell_type": "markdown",
      "id": "b90c74cc",
      "metadata": {
        "id": "b90c74cc"
      },
      "source": [
        "#### 25. Briefly summarize what you learned, personally, from this analysis about the statistics, model fitting process, etc."
      ]
    },
    {
      "cell_type": "markdown",
      "id": "308e8224",
      "metadata": {
        "id": "308e8224"
      },
      "source": [
        "This analysis taught me about the importance of understanding the effect of models on your analysis. Including this interaction in the model resulted in an r-squared of 98.6 which is awesome. Just adjusting the slope of one line really made a huge difference."
      ]
    },
    {
      "cell_type": "markdown",
      "id": "df081a29",
      "metadata": {
        "id": "df081a29"
      },
      "source": [
        "#### 26. Briefly summarize what you learned from this analysis *to a non-statistician*. Write a few sentences about (1) the purpose of this data set and analysis and (2) what you learned about this data set from your analysis. Write your response as if you were addressing a business manager (avoid using statistics jargon) and just provide the main take-aways.\n"
      ]
    },
    {
      "cell_type": "markdown",
      "id": "a70a5cd0",
      "metadata": {
        "id": "a70a5cd0"
      },
      "source": [
        "Through this analysis, we explored how various factors, like a country's economic status measured by GDP (Gross Domestic Product per person) and membership in international organizations like the OECD, might influence its citizens' life expectancy. Here's what we found:\n",
        "\n",
        "Economic Prosperity and Health: There's a clear link between a country's wealth and the health of its people. As the average income per person increases, so does life expectancy. This might be due to better healthcare, nutrition, and living conditions that come with economic growth.\n",
        "\n",
        "Influence of International Groups: Being part of the OECD, which is a group of wealthier countries, does not always mean a country's people will live longer. In fact, at certain levels of wealth, OECD membership was associated with a slight decrease in life expectancy. This was a surprising finding, suggesting that factors other than just economic ones can impact health.\n",
        "\n",
        "Complex Relationships: The analysis showed that the relationship between money and health is not straightforward. For example, while African countries benefit significantly from economic growth in terms of their citizens' life expectancy, OECD countries did not see as much of an impact. This suggests that once a country reaches a certain level of wealth, other factors may become more important for improving health.\n",
        "\n",
        "In summary, while more money in a country's economy generally means longer lives for its people, the relationship varies by region and economic grouping. Understanding these subtleties can help policymakers and business leaders make more informed decisions about where and how to invest in improving public health."
      ]
    }
  ],
  "metadata": {
    "kernelspec": {
      "display_name": "Python 3 (ipykernel)",
      "language": "python",
      "name": "python3"
    },
    "language_info": {
      "codemirror_mode": {
        "name": "ipython",
        "version": 3
      },
      "file_extension": ".py",
      "mimetype": "text/x-python",
      "name": "python",
      "nbconvert_exporter": "python",
      "pygments_lexer": "ipython3",
      "version": "3.11.4"
    },
    "vscode": {
      "interpreter": {
        "hash": "a0684fe0b0151f71031cb92cd2c7bcef255c4e1e61042017460e15653b8a3a79"
      }
    },
    "colab": {
      "provenance": []
    }
  },
  "nbformat": 4,
  "nbformat_minor": 5
}